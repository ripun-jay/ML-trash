{
 "cells": [
  {
   "cell_type": "markdown",
   "id": "8f381612",
   "metadata": {},
   "source": [
    "# Imporing Required Packages"
   ]
  },
  {
   "cell_type": "code",
   "execution_count": 48,
   "id": "4b5f57e4",
   "metadata": {},
   "outputs": [],
   "source": [
    "import pandas as pd\n",
    "import numpy as np\n",
    "\n",
    "from pandas.plotting import scatter_matrix # for ploting corr()\n",
    "\n",
    "from sklearn.model_selection import StratifiedShuffleSplit # for train_test_split\n",
    "\n",
    "from sklearn.pipeline import Pipeline  # for data transformation\n",
    "from sklearn.preprocessing import StandardScaler   # for standardization of data\n",
    "from sklearn.impute import SimpleImputer  # for filling missing values\n",
    "\n",
    "# models\n",
    "from sklearn.linear_model import LinearRegression\n",
    "from sklearn.tree import DecisionTreeRegressor\n",
    "from sklearn.ensemble import RandomForestRegressor\n",
    "\n",
    "from sklearn.metrics import mean_squared_error # for calculating error\n",
    "\n",
    "from sklearn.model_selection import cross_val_score  #for cross validating using sampling"
   ]
  },
  {
   "cell_type": "markdown",
   "id": "6f3d066e",
   "metadata": {},
   "source": [
    "# Loading Data"
   ]
  },
  {
   "cell_type": "code",
   "execution_count": 2,
   "id": "09db4fea",
   "metadata": {},
   "outputs": [],
   "source": [
    "filename = \"files/housing_data.csv\"\n",
    "data = pd.read_csv(filename)"
   ]
  },
  {
   "cell_type": "markdown",
   "id": "b95cfe1e",
   "metadata": {},
   "source": [
    "# Looking for General Insights of data"
   ]
  },
  {
   "cell_type": "code",
   "execution_count": 3,
   "id": "ff1e1c72",
   "metadata": {},
   "outputs": [
    {
     "data": {
      "text/plain": [
       "<bound method NDFrame.head of         CRIM    ZN  INDUS  CHAS    NOX     RM   AGE     DIS  RAD  TAX   \n",
       "0    0.00632  18.0   2.31     0  0.538  6.575  65.2  4.0900    1  296  \\\n",
       "1    0.02731   0.0   7.07     0  0.469  6.421  78.9  4.9671    2  242   \n",
       "2    0.02729   0.0   7.07     0  0.469  7.185  61.1  4.9671    2  242   \n",
       "3    0.03237   0.0   2.18     0  0.458  6.998  45.8  6.0622    3  222   \n",
       "4    0.06905   0.0   2.18     0  0.458  7.147  54.2  6.0622    3  222   \n",
       "..       ...   ...    ...   ...    ...    ...   ...     ...  ...  ...   \n",
       "501  0.06263   0.0  11.93     0  0.573  6.593  69.1  2.4786    1  273   \n",
       "502  0.04527   0.0  11.93     0  0.573  6.120  76.7  2.2875    1  273   \n",
       "503  0.06076   0.0  11.93     0  0.573  6.976  91.0  2.1675    1  273   \n",
       "504  0.10959   0.0  11.93     0  0.573  6.794  89.3  2.3889    1  273   \n",
       "505  0.04741   0.0  11.93     0  0.573  6.030  80.8  2.5050    1  273   \n",
       "\n",
       "     PTRATIO       B  LSTAT  MEDV  \n",
       "0       15.3  396.90   4.98  24.0  \n",
       "1       17.8  396.90   9.14  21.6  \n",
       "2       17.8  392.83   4.03  34.7  \n",
       "3       18.7  394.63   2.94  33.4  \n",
       "4       18.7  396.90   5.33  36.2  \n",
       "..       ...     ...    ...   ...  \n",
       "501     21.0  391.99   9.67  22.4  \n",
       "502     21.0  396.90   9.08  20.6  \n",
       "503     21.0  396.90   5.64  23.9  \n",
       "504     21.0  393.45   6.48  22.0  \n",
       "505     21.0  396.90   7.88  11.9  \n",
       "\n",
       "[506 rows x 14 columns]>"
      ]
     },
     "execution_count": 3,
     "metadata": {},
     "output_type": "execute_result"
    }
   ],
   "source": [
    "data.head  # looking all the datapoints"
   ]
  },
  {
   "cell_type": "code",
   "execution_count": 4,
   "id": "42c1793f",
   "metadata": {},
   "outputs": [
    {
     "data": {
      "text/html": [
       "<div>\n",
       "<style scoped>\n",
       "    .dataframe tbody tr th:only-of-type {\n",
       "        vertical-align: middle;\n",
       "    }\n",
       "\n",
       "    .dataframe tbody tr th {\n",
       "        vertical-align: top;\n",
       "    }\n",
       "\n",
       "    .dataframe thead th {\n",
       "        text-align: right;\n",
       "    }\n",
       "</style>\n",
       "<table border=\"1\" class=\"dataframe\">\n",
       "  <thead>\n",
       "    <tr style=\"text-align: right;\">\n",
       "      <th></th>\n",
       "      <th>CRIM</th>\n",
       "      <th>ZN</th>\n",
       "      <th>INDUS</th>\n",
       "      <th>CHAS</th>\n",
       "      <th>NOX</th>\n",
       "      <th>RM</th>\n",
       "      <th>AGE</th>\n",
       "      <th>DIS</th>\n",
       "      <th>RAD</th>\n",
       "      <th>TAX</th>\n",
       "      <th>PTRATIO</th>\n",
       "      <th>B</th>\n",
       "      <th>LSTAT</th>\n",
       "      <th>MEDV</th>\n",
       "    </tr>\n",
       "  </thead>\n",
       "  <tbody>\n",
       "    <tr>\n",
       "      <th>0</th>\n",
       "      <td>0.00632</td>\n",
       "      <td>18.0</td>\n",
       "      <td>2.31</td>\n",
       "      <td>0</td>\n",
       "      <td>0.538</td>\n",
       "      <td>6.575</td>\n",
       "      <td>65.2</td>\n",
       "      <td>4.0900</td>\n",
       "      <td>1</td>\n",
       "      <td>296</td>\n",
       "      <td>15.3</td>\n",
       "      <td>396.90</td>\n",
       "      <td>4.98</td>\n",
       "      <td>24.0</td>\n",
       "    </tr>\n",
       "    <tr>\n",
       "      <th>1</th>\n",
       "      <td>0.02731</td>\n",
       "      <td>0.0</td>\n",
       "      <td>7.07</td>\n",
       "      <td>0</td>\n",
       "      <td>0.469</td>\n",
       "      <td>6.421</td>\n",
       "      <td>78.9</td>\n",
       "      <td>4.9671</td>\n",
       "      <td>2</td>\n",
       "      <td>242</td>\n",
       "      <td>17.8</td>\n",
       "      <td>396.90</td>\n",
       "      <td>9.14</td>\n",
       "      <td>21.6</td>\n",
       "    </tr>\n",
       "    <tr>\n",
       "      <th>2</th>\n",
       "      <td>0.02729</td>\n",
       "      <td>0.0</td>\n",
       "      <td>7.07</td>\n",
       "      <td>0</td>\n",
       "      <td>0.469</td>\n",
       "      <td>7.185</td>\n",
       "      <td>61.1</td>\n",
       "      <td>4.9671</td>\n",
       "      <td>2</td>\n",
       "      <td>242</td>\n",
       "      <td>17.8</td>\n",
       "      <td>392.83</td>\n",
       "      <td>4.03</td>\n",
       "      <td>34.7</td>\n",
       "    </tr>\n",
       "    <tr>\n",
       "      <th>3</th>\n",
       "      <td>0.03237</td>\n",
       "      <td>0.0</td>\n",
       "      <td>2.18</td>\n",
       "      <td>0</td>\n",
       "      <td>0.458</td>\n",
       "      <td>6.998</td>\n",
       "      <td>45.8</td>\n",
       "      <td>6.0622</td>\n",
       "      <td>3</td>\n",
       "      <td>222</td>\n",
       "      <td>18.7</td>\n",
       "      <td>394.63</td>\n",
       "      <td>2.94</td>\n",
       "      <td>33.4</td>\n",
       "    </tr>\n",
       "    <tr>\n",
       "      <th>4</th>\n",
       "      <td>0.06905</td>\n",
       "      <td>0.0</td>\n",
       "      <td>2.18</td>\n",
       "      <td>0</td>\n",
       "      <td>0.458</td>\n",
       "      <td>7.147</td>\n",
       "      <td>54.2</td>\n",
       "      <td>6.0622</td>\n",
       "      <td>3</td>\n",
       "      <td>222</td>\n",
       "      <td>18.7</td>\n",
       "      <td>396.90</td>\n",
       "      <td>5.33</td>\n",
       "      <td>36.2</td>\n",
       "    </tr>\n",
       "  </tbody>\n",
       "</table>\n",
       "</div>"
      ],
      "text/plain": [
       "      CRIM    ZN  INDUS  CHAS    NOX     RM   AGE     DIS  RAD  TAX  PTRATIO   \n",
       "0  0.00632  18.0   2.31     0  0.538  6.575  65.2  4.0900    1  296     15.3  \\\n",
       "1  0.02731   0.0   7.07     0  0.469  6.421  78.9  4.9671    2  242     17.8   \n",
       "2  0.02729   0.0   7.07     0  0.469  7.185  61.1  4.9671    2  242     17.8   \n",
       "3  0.03237   0.0   2.18     0  0.458  6.998  45.8  6.0622    3  222     18.7   \n",
       "4  0.06905   0.0   2.18     0  0.458  7.147  54.2  6.0622    3  222     18.7   \n",
       "\n",
       "        B  LSTAT  MEDV  \n",
       "0  396.90   4.98  24.0  \n",
       "1  396.90   9.14  21.6  \n",
       "2  392.83   4.03  34.7  \n",
       "3  394.63   2.94  33.4  \n",
       "4  396.90   5.33  36.2  "
      ]
     },
     "execution_count": 4,
     "metadata": {},
     "output_type": "execute_result"
    }
   ],
   "source": [
    "data.head()"
   ]
  },
  {
   "cell_type": "markdown",
   "id": "0f80a04a",
   "metadata": {},
   "source": [
    "<h3> SO THIS DATA has 505 DATAPOINTS/INSTANCE AND 14 FEATURES </h3>"
   ]
  },
  {
   "cell_type": "code",
   "execution_count": 5,
   "id": "1089c052",
   "metadata": {},
   "outputs": [
    {
     "name": "stdout",
     "output_type": "stream",
     "text": [
      "<class 'pandas.core.frame.DataFrame'>\n",
      "RangeIndex: 506 entries, 0 to 505\n",
      "Data columns (total 14 columns):\n",
      " #   Column   Non-Null Count  Dtype  \n",
      "---  ------   --------------  -----  \n",
      " 0   CRIM     506 non-null    float64\n",
      " 1   ZN       506 non-null    float64\n",
      " 2   INDUS    506 non-null    float64\n",
      " 3   CHAS     506 non-null    int64  \n",
      " 4   NOX      506 non-null    float64\n",
      " 5   RM       500 non-null    float64\n",
      " 6   AGE      506 non-null    float64\n",
      " 7   DIS      506 non-null    float64\n",
      " 8   RAD      506 non-null    int64  \n",
      " 9   TAX      506 non-null    int64  \n",
      " 10  PTRATIO  506 non-null    float64\n",
      " 11  B        506 non-null    float64\n",
      " 12  LSTAT    506 non-null    float64\n",
      " 13  MEDV     506 non-null    float64\n",
      "dtypes: float64(11), int64(3)\n",
      "memory usage: 55.5 KB\n"
     ]
    }
   ],
   "source": [
    "data.info()"
   ]
  },
  {
   "cell_type": "code",
   "execution_count": 6,
   "id": "a27e46b5",
   "metadata": {},
   "outputs": [
    {
     "data": {
      "text/html": [
       "<div>\n",
       "<style scoped>\n",
       "    .dataframe tbody tr th:only-of-type {\n",
       "        vertical-align: middle;\n",
       "    }\n",
       "\n",
       "    .dataframe tbody tr th {\n",
       "        vertical-align: top;\n",
       "    }\n",
       "\n",
       "    .dataframe thead th {\n",
       "        text-align: right;\n",
       "    }\n",
       "</style>\n",
       "<table border=\"1\" class=\"dataframe\">\n",
       "  <thead>\n",
       "    <tr style=\"text-align: right;\">\n",
       "      <th></th>\n",
       "      <th>CRIM</th>\n",
       "      <th>ZN</th>\n",
       "      <th>INDUS</th>\n",
       "      <th>CHAS</th>\n",
       "      <th>NOX</th>\n",
       "      <th>RM</th>\n",
       "      <th>AGE</th>\n",
       "      <th>DIS</th>\n",
       "      <th>RAD</th>\n",
       "      <th>TAX</th>\n",
       "      <th>PTRATIO</th>\n",
       "      <th>B</th>\n",
       "      <th>LSTAT</th>\n",
       "      <th>MEDV</th>\n",
       "    </tr>\n",
       "  </thead>\n",
       "  <tbody>\n",
       "    <tr>\n",
       "      <th>count</th>\n",
       "      <td>506.000000</td>\n",
       "      <td>506.000000</td>\n",
       "      <td>506.000000</td>\n",
       "      <td>506.000000</td>\n",
       "      <td>506.000000</td>\n",
       "      <td>500.000000</td>\n",
       "      <td>506.000000</td>\n",
       "      <td>506.000000</td>\n",
       "      <td>506.000000</td>\n",
       "      <td>506.000000</td>\n",
       "      <td>506.000000</td>\n",
       "      <td>506.000000</td>\n",
       "      <td>506.000000</td>\n",
       "      <td>506.000000</td>\n",
       "    </tr>\n",
       "    <tr>\n",
       "      <th>mean</th>\n",
       "      <td>3.613524</td>\n",
       "      <td>11.363636</td>\n",
       "      <td>11.136779</td>\n",
       "      <td>0.069170</td>\n",
       "      <td>0.554695</td>\n",
       "      <td>6.283550</td>\n",
       "      <td>68.574901</td>\n",
       "      <td>3.795043</td>\n",
       "      <td>9.549407</td>\n",
       "      <td>408.237154</td>\n",
       "      <td>18.455534</td>\n",
       "      <td>356.674032</td>\n",
       "      <td>12.653063</td>\n",
       "      <td>22.532806</td>\n",
       "    </tr>\n",
       "    <tr>\n",
       "      <th>std</th>\n",
       "      <td>8.601545</td>\n",
       "      <td>23.322453</td>\n",
       "      <td>6.860353</td>\n",
       "      <td>0.253994</td>\n",
       "      <td>0.115878</td>\n",
       "      <td>0.704848</td>\n",
       "      <td>28.148861</td>\n",
       "      <td>2.105710</td>\n",
       "      <td>8.707259</td>\n",
       "      <td>168.537116</td>\n",
       "      <td>2.164946</td>\n",
       "      <td>91.294864</td>\n",
       "      <td>7.141062</td>\n",
       "      <td>9.197104</td>\n",
       "    </tr>\n",
       "    <tr>\n",
       "      <th>min</th>\n",
       "      <td>0.006320</td>\n",
       "      <td>0.000000</td>\n",
       "      <td>0.460000</td>\n",
       "      <td>0.000000</td>\n",
       "      <td>0.385000</td>\n",
       "      <td>3.561000</td>\n",
       "      <td>2.900000</td>\n",
       "      <td>1.129600</td>\n",
       "      <td>1.000000</td>\n",
       "      <td>187.000000</td>\n",
       "      <td>12.600000</td>\n",
       "      <td>0.320000</td>\n",
       "      <td>1.730000</td>\n",
       "      <td>5.000000</td>\n",
       "    </tr>\n",
       "    <tr>\n",
       "      <th>25%</th>\n",
       "      <td>0.082045</td>\n",
       "      <td>0.000000</td>\n",
       "      <td>5.190000</td>\n",
       "      <td>0.000000</td>\n",
       "      <td>0.449000</td>\n",
       "      <td>5.884750</td>\n",
       "      <td>45.025000</td>\n",
       "      <td>2.100175</td>\n",
       "      <td>4.000000</td>\n",
       "      <td>279.000000</td>\n",
       "      <td>17.400000</td>\n",
       "      <td>375.377500</td>\n",
       "      <td>6.950000</td>\n",
       "      <td>17.025000</td>\n",
       "    </tr>\n",
       "    <tr>\n",
       "      <th>50%</th>\n",
       "      <td>0.256510</td>\n",
       "      <td>0.000000</td>\n",
       "      <td>9.690000</td>\n",
       "      <td>0.000000</td>\n",
       "      <td>0.538000</td>\n",
       "      <td>6.208500</td>\n",
       "      <td>77.500000</td>\n",
       "      <td>3.207450</td>\n",
       "      <td>5.000000</td>\n",
       "      <td>330.000000</td>\n",
       "      <td>19.050000</td>\n",
       "      <td>391.440000</td>\n",
       "      <td>11.360000</td>\n",
       "      <td>21.200000</td>\n",
       "    </tr>\n",
       "    <tr>\n",
       "      <th>75%</th>\n",
       "      <td>3.677083</td>\n",
       "      <td>12.500000</td>\n",
       "      <td>18.100000</td>\n",
       "      <td>0.000000</td>\n",
       "      <td>0.624000</td>\n",
       "      <td>6.626000</td>\n",
       "      <td>94.075000</td>\n",
       "      <td>5.188425</td>\n",
       "      <td>24.000000</td>\n",
       "      <td>666.000000</td>\n",
       "      <td>20.200000</td>\n",
       "      <td>396.225000</td>\n",
       "      <td>16.955000</td>\n",
       "      <td>25.000000</td>\n",
       "    </tr>\n",
       "    <tr>\n",
       "      <th>max</th>\n",
       "      <td>88.976200</td>\n",
       "      <td>100.000000</td>\n",
       "      <td>27.740000</td>\n",
       "      <td>1.000000</td>\n",
       "      <td>0.871000</td>\n",
       "      <td>8.780000</td>\n",
       "      <td>100.000000</td>\n",
       "      <td>12.126500</td>\n",
       "      <td>24.000000</td>\n",
       "      <td>711.000000</td>\n",
       "      <td>22.000000</td>\n",
       "      <td>396.900000</td>\n",
       "      <td>37.970000</td>\n",
       "      <td>50.000000</td>\n",
       "    </tr>\n",
       "  </tbody>\n",
       "</table>\n",
       "</div>"
      ],
      "text/plain": [
       "             CRIM          ZN       INDUS        CHAS         NOX          RM   \n",
       "count  506.000000  506.000000  506.000000  506.000000  506.000000  500.000000  \\\n",
       "mean     3.613524   11.363636   11.136779    0.069170    0.554695    6.283550   \n",
       "std      8.601545   23.322453    6.860353    0.253994    0.115878    0.704848   \n",
       "min      0.006320    0.000000    0.460000    0.000000    0.385000    3.561000   \n",
       "25%      0.082045    0.000000    5.190000    0.000000    0.449000    5.884750   \n",
       "50%      0.256510    0.000000    9.690000    0.000000    0.538000    6.208500   \n",
       "75%      3.677083   12.500000   18.100000    0.000000    0.624000    6.626000   \n",
       "max     88.976200  100.000000   27.740000    1.000000    0.871000    8.780000   \n",
       "\n",
       "              AGE         DIS         RAD         TAX     PTRATIO           B   \n",
       "count  506.000000  506.000000  506.000000  506.000000  506.000000  506.000000  \\\n",
       "mean    68.574901    3.795043    9.549407  408.237154   18.455534  356.674032   \n",
       "std     28.148861    2.105710    8.707259  168.537116    2.164946   91.294864   \n",
       "min      2.900000    1.129600    1.000000  187.000000   12.600000    0.320000   \n",
       "25%     45.025000    2.100175    4.000000  279.000000   17.400000  375.377500   \n",
       "50%     77.500000    3.207450    5.000000  330.000000   19.050000  391.440000   \n",
       "75%     94.075000    5.188425   24.000000  666.000000   20.200000  396.225000   \n",
       "max    100.000000   12.126500   24.000000  711.000000   22.000000  396.900000   \n",
       "\n",
       "            LSTAT        MEDV  \n",
       "count  506.000000  506.000000  \n",
       "mean    12.653063   22.532806  \n",
       "std      7.141062    9.197104  \n",
       "min      1.730000    5.000000  \n",
       "25%      6.950000   17.025000  \n",
       "50%     11.360000   21.200000  \n",
       "75%     16.955000   25.000000  \n",
       "max     37.970000   50.000000  "
      ]
     },
     "execution_count": 6,
     "metadata": {},
     "output_type": "execute_result"
    }
   ],
   "source": [
    "data.describe()"
   ]
  },
  {
   "cell_type": "code",
   "execution_count": 7,
   "id": "0c32d66b",
   "metadata": {},
   "outputs": [
    {
     "data": {
      "text/plain": [
       "CHAS\n",
       "0    471\n",
       "1     35\n",
       "Name: count, dtype: int64"
      ]
     },
     "execution_count": 7,
     "metadata": {},
     "output_type": "execute_result"
    }
   ],
   "source": [
    "data[\"CHAS\"].value_counts()"
   ]
  },
  {
   "cell_type": "code",
   "execution_count": 8,
   "id": "265665f5",
   "metadata": {},
   "outputs": [
    {
     "data": {
      "text/plain": [
       "MEDV\n",
       "50.0    16\n",
       "25.0     8\n",
       "22.0     7\n",
       "21.7     7\n",
       "23.1     7\n",
       "        ..\n",
       "32.9     1\n",
       "34.6     1\n",
       "30.3     1\n",
       "33.3     1\n",
       "8.1      1\n",
       "Name: count, Length: 229, dtype: int64"
      ]
     },
     "execution_count": 8,
     "metadata": {},
     "output_type": "execute_result"
    }
   ],
   "source": [
    "data[\"MEDV\"].value_counts()"
   ]
  },
  {
   "cell_type": "markdown",
   "id": "36e68996",
   "metadata": {},
   "source": [
    "<h3>all the features has 506 datapoints but \"RM\" has missing some datapoints only 500 datapoints exits, \"CHAS\" is catagotic with 471 0 valuesa and 35 1 values</h3>"
   ]
  },
  {
   "cell_type": "markdown",
   "id": "46e94191",
   "metadata": {},
   "source": [
    "<h2> LOOKING FOR CORELATION WITH PRICE:- \"MEDV\"</h2>"
   ]
  },
  {
   "cell_type": "code",
   "execution_count": 9,
   "id": "3dd826ee",
   "metadata": {},
   "outputs": [
    {
     "data": {
      "text/plain": [
       "MEDV       1.000000\n",
       "RM         0.694461\n",
       "ZN         0.360445\n",
       "B          0.333461\n",
       "DIS        0.249929\n",
       "CHAS       0.175260\n",
       "AGE       -0.376955\n",
       "RAD       -0.381626\n",
       "CRIM      -0.388305\n",
       "NOX       -0.427321\n",
       "TAX       -0.468536\n",
       "INDUS     -0.483725\n",
       "PTRATIO   -0.507787\n",
       "LSTAT     -0.737663\n",
       "Name: MEDV, dtype: float64"
      ]
     },
     "execution_count": 9,
     "metadata": {},
     "output_type": "execute_result"
    }
   ],
   "source": [
    "data.corr()[\"MEDV\"].sort_values(ascending= False)"
   ]
  },
  {
   "cell_type": "markdown",
   "id": "5c8e4162",
   "metadata": {},
   "source": [
    "<h3>these feature has more impact on price \"MEDV\":- RM, ZN, INDUS, PTRATIO, LSTAT</h3>"
   ]
  },
  {
   "cell_type": "markdown",
   "id": "455c80d9",
   "metadata": {},
   "source": [
    "# Ploting Data"
   ]
  },
  {
   "cell_type": "code",
   "execution_count": 10,
   "id": "f3303386",
   "metadata": {},
   "outputs": [
    {
     "data": {
      "text/plain": [
       "array([[<Axes: xlabel='RM', ylabel='RM'>,\n",
       "        <Axes: xlabel='ZN', ylabel='RM'>,\n",
       "        <Axes: xlabel='INDUS', ylabel='RM'>,\n",
       "        <Axes: xlabel='PTRATIO', ylabel='RM'>,\n",
       "        <Axes: xlabel='LSTAT', ylabel='RM'>,\n",
       "        <Axes: xlabel='MEDV', ylabel='RM'>],\n",
       "       [<Axes: xlabel='RM', ylabel='ZN'>,\n",
       "        <Axes: xlabel='ZN', ylabel='ZN'>,\n",
       "        <Axes: xlabel='INDUS', ylabel='ZN'>,\n",
       "        <Axes: xlabel='PTRATIO', ylabel='ZN'>,\n",
       "        <Axes: xlabel='LSTAT', ylabel='ZN'>,\n",
       "        <Axes: xlabel='MEDV', ylabel='ZN'>],\n",
       "       [<Axes: xlabel='RM', ylabel='INDUS'>,\n",
       "        <Axes: xlabel='ZN', ylabel='INDUS'>,\n",
       "        <Axes: xlabel='INDUS', ylabel='INDUS'>,\n",
       "        <Axes: xlabel='PTRATIO', ylabel='INDUS'>,\n",
       "        <Axes: xlabel='LSTAT', ylabel='INDUS'>,\n",
       "        <Axes: xlabel='MEDV', ylabel='INDUS'>],\n",
       "       [<Axes: xlabel='RM', ylabel='PTRATIO'>,\n",
       "        <Axes: xlabel='ZN', ylabel='PTRATIO'>,\n",
       "        <Axes: xlabel='INDUS', ylabel='PTRATIO'>,\n",
       "        <Axes: xlabel='PTRATIO', ylabel='PTRATIO'>,\n",
       "        <Axes: xlabel='LSTAT', ylabel='PTRATIO'>,\n",
       "        <Axes: xlabel='MEDV', ylabel='PTRATIO'>],\n",
       "       [<Axes: xlabel='RM', ylabel='LSTAT'>,\n",
       "        <Axes: xlabel='ZN', ylabel='LSTAT'>,\n",
       "        <Axes: xlabel='INDUS', ylabel='LSTAT'>,\n",
       "        <Axes: xlabel='PTRATIO', ylabel='LSTAT'>,\n",
       "        <Axes: xlabel='LSTAT', ylabel='LSTAT'>,\n",
       "        <Axes: xlabel='MEDV', ylabel='LSTAT'>],\n",
       "       [<Axes: xlabel='RM', ylabel='MEDV'>,\n",
       "        <Axes: xlabel='ZN', ylabel='MEDV'>,\n",
       "        <Axes: xlabel='INDUS', ylabel='MEDV'>,\n",
       "        <Axes: xlabel='PTRATIO', ylabel='MEDV'>,\n",
       "        <Axes: xlabel='LSTAT', ylabel='MEDV'>,\n",
       "        <Axes: xlabel='MEDV', ylabel='MEDV'>]], dtype=object)"
      ]
     },
     "execution_count": 10,
     "metadata": {},
     "output_type": "execute_result"
    },
    {
     "data": {
      "image/png": "[encoded data removed]",
      "text/plain": [
       "<Figure size 1200x800 with 36 Axes>"
      ]
     },
     "metadata": {},
     "output_type": "display_data"
    }
   ],
   "source": [
    "attributes = [\"RM\", \"ZN\", \"INDUS\", \"PTRATIO\", 'LSTAT', \"MEDV\"]\n",
    "scatter_matrix(data[attributes], figsize= (12,8))"
   ]
  },
  {
   "cell_type": "markdown",
   "id": "b5fad46a",
   "metadata": {},
   "source": [
    "<h3> here clear trend of RM and LSTAT with MEDV </h3>"
   ]
  },
  {
   "cell_type": "code",
   "execution_count": 11,
   "id": "de2d0da2",
   "metadata": {},
   "outputs": [
    {
     "data": {
      "text/plain": [
       "<Axes: xlabel='RM', ylabel='MEDV'>"
      ]
     },
     "execution_count": 11,
     "metadata": {},
     "output_type": "execute_result"
    },
    {
     "data": {
      "image/png": "[encoded data removed]",
      "text/plain": [
       "<Figure size 640x480 with 1 Axes>"
      ]
     },
     "metadata": {},
     "output_type": "display_data"
    }
   ],
   "source": [
    "data.plot(kind= \"scatter\", x= \"RM\", y= \"MEDV\", alpha= 0.2)"
   ]
  },
  {
   "cell_type": "markdown",
   "id": "f4f9caab",
   "metadata": {},
   "source": [
    "* there are multiple outliar due to cap on MEDV to 50 "
   ]
  },
  {
   "cell_type": "code",
   "execution_count": 12,
   "id": "8aeeb8eb",
   "metadata": {},
   "outputs": [
    {
     "data": {
      "text/plain": [
       "array([[<Axes: title={'center': 'CRIM'}>, <Axes: title={'center': 'ZN'}>,\n",
       "        <Axes: title={'center': 'INDUS'}>,\n",
       "        <Axes: title={'center': 'CHAS'}>],\n",
       "       [<Axes: title={'center': 'NOX'}>, <Axes: title={'center': 'RM'}>,\n",
       "        <Axes: title={'center': 'AGE'}>, <Axes: title={'center': 'DIS'}>],\n",
       "       [<Axes: title={'center': 'RAD'}>, <Axes: title={'center': 'TAX'}>,\n",
       "        <Axes: title={'center': 'PTRATIO'}>,\n",
       "        <Axes: title={'center': 'B'}>],\n",
       "       [<Axes: title={'center': 'LSTAT'}>,\n",
       "        <Axes: title={'center': 'MEDV'}>, <Axes: >, <Axes: >]],\n",
       "      dtype=object)"
      ]
     },
     "execution_count": 12,
     "metadata": {},
     "output_type": "execute_result"
    },
    {
     "data": {
      "image/png": "[encoded data removed]",
      "text/plain": [
       "<Figure size 2000x1500 with 16 Axes>"
      ]
     },
     "metadata": {},
     "output_type": "display_data"
    }
   ],
   "source": [
    "data.hist(bins=50, figsize= (20,15))  #to see distribution of each feature"
   ]
  },
  {
   "cell_type": "markdown",
   "id": "e61b057f",
   "metadata": {},
   "source": [
    "# Train_Test_spliting"
   ]
  },
  {
   "cell_type": "code",
   "execution_count": 13,
   "id": "1c7ec4cc",
   "metadata": {},
   "outputs": [],
   "source": [
    "#spliting train and test set such that it split categorical data \"CHAS\" uniformally, so it represent population\n",
    "\n",
    "split = StratifiedShuffleSplit(n_splits= 1, test_size= 0.2, random_state= 42)\n",
    "for train_index, test_index in split.split(data, data[\"CHAS\"]):\n",
    "    strat_train_set = data.loc[train_index]\n",
    "    strat_test_set = data.loc[test_index]"
   ]
  },
  {
   "cell_type": "code",
   "execution_count": 14,
   "id": "e83b20eb",
   "metadata": {
    "scrolled": true
   },
   "outputs": [
    {
     "data": {
      "text/html": [
       "<div>\n",
       "<style scoped>\n",
       "    .dataframe tbody tr th:only-of-type {\n",
       "        vertical-align: middle;\n",
       "    }\n",
       "\n",
       "    .dataframe tbody tr th {\n",
       "        vertical-align: top;\n",
       "    }\n",
       "\n",
       "    .dataframe thead th {\n",
       "        text-align: right;\n",
       "    }\n",
       "</style>\n",
       "<table border=\"1\" class=\"dataframe\">\n",
       "  <thead>\n",
       "    <tr style=\"text-align: right;\">\n",
       "      <th></th>\n",
       "      <th>CRIM</th>\n",
       "      <th>ZN</th>\n",
       "      <th>INDUS</th>\n",
       "      <th>CHAS</th>\n",
       "      <th>NOX</th>\n",
       "      <th>RM</th>\n",
       "      <th>AGE</th>\n",
       "      <th>DIS</th>\n",
       "      <th>RAD</th>\n",
       "      <th>TAX</th>\n",
       "      <th>PTRATIO</th>\n",
       "      <th>B</th>\n",
       "      <th>LSTAT</th>\n",
       "      <th>MEDV</th>\n",
       "    </tr>\n",
       "  </thead>\n",
       "  <tbody>\n",
       "    <tr>\n",
       "      <th>254</th>\n",
       "      <td>0.04819</td>\n",
       "      <td>80.0</td>\n",
       "      <td>3.64</td>\n",
       "      <td>0</td>\n",
       "      <td>0.392</td>\n",
       "      <td>6.108</td>\n",
       "      <td>32.0</td>\n",
       "      <td>9.2203</td>\n",
       "      <td>1</td>\n",
       "      <td>315</td>\n",
       "      <td>16.4</td>\n",
       "      <td>392.89</td>\n",
       "      <td>6.57</td>\n",
       "      <td>21.9</td>\n",
       "    </tr>\n",
       "    <tr>\n",
       "      <th>348</th>\n",
       "      <td>0.01501</td>\n",
       "      <td>80.0</td>\n",
       "      <td>2.01</td>\n",
       "      <td>0</td>\n",
       "      <td>0.435</td>\n",
       "      <td>6.635</td>\n",
       "      <td>29.7</td>\n",
       "      <td>8.3440</td>\n",
       "      <td>4</td>\n",
       "      <td>280</td>\n",
       "      <td>17.0</td>\n",
       "      <td>390.94</td>\n",
       "      <td>5.99</td>\n",
       "      <td>24.5</td>\n",
       "    </tr>\n",
       "    <tr>\n",
       "      <th>476</th>\n",
       "      <td>4.87141</td>\n",
       "      <td>0.0</td>\n",
       "      <td>18.10</td>\n",
       "      <td>0</td>\n",
       "      <td>0.614</td>\n",
       "      <td>6.484</td>\n",
       "      <td>93.6</td>\n",
       "      <td>2.3053</td>\n",
       "      <td>24</td>\n",
       "      <td>666</td>\n",
       "      <td>20.2</td>\n",
       "      <td>396.21</td>\n",
       "      <td>18.68</td>\n",
       "      <td>16.7</td>\n",
       "    </tr>\n",
       "    <tr>\n",
       "      <th>321</th>\n",
       "      <td>0.18159</td>\n",
       "      <td>0.0</td>\n",
       "      <td>7.38</td>\n",
       "      <td>0</td>\n",
       "      <td>0.493</td>\n",
       "      <td>6.376</td>\n",
       "      <td>54.3</td>\n",
       "      <td>4.5404</td>\n",
       "      <td>5</td>\n",
       "      <td>287</td>\n",
       "      <td>19.6</td>\n",
       "      <td>396.90</td>\n",
       "      <td>6.87</td>\n",
       "      <td>23.1</td>\n",
       "    </tr>\n",
       "    <tr>\n",
       "      <th>326</th>\n",
       "      <td>0.30347</td>\n",
       "      <td>0.0</td>\n",
       "      <td>7.38</td>\n",
       "      <td>0</td>\n",
       "      <td>0.493</td>\n",
       "      <td>6.312</td>\n",
       "      <td>28.9</td>\n",
       "      <td>5.4159</td>\n",
       "      <td>5</td>\n",
       "      <td>287</td>\n",
       "      <td>19.6</td>\n",
       "      <td>396.90</td>\n",
       "      <td>6.15</td>\n",
       "      <td>23.0</td>\n",
       "    </tr>\n",
       "    <tr>\n",
       "      <th>...</th>\n",
       "      <td>...</td>\n",
       "      <td>...</td>\n",
       "      <td>...</td>\n",
       "      <td>...</td>\n",
       "      <td>...</td>\n",
       "      <td>...</td>\n",
       "      <td>...</td>\n",
       "      <td>...</td>\n",
       "      <td>...</td>\n",
       "      <td>...</td>\n",
       "      <td>...</td>\n",
       "      <td>...</td>\n",
       "      <td>...</td>\n",
       "      <td>...</td>\n",
       "    </tr>\n",
       "    <tr>\n",
       "      <th>155</th>\n",
       "      <td>3.53501</td>\n",
       "      <td>0.0</td>\n",
       "      <td>19.58</td>\n",
       "      <td>1</td>\n",
       "      <td>0.871</td>\n",
       "      <td>6.152</td>\n",
       "      <td>82.6</td>\n",
       "      <td>1.7455</td>\n",
       "      <td>5</td>\n",
       "      <td>403</td>\n",
       "      <td>14.7</td>\n",
       "      <td>88.01</td>\n",
       "      <td>15.02</td>\n",
       "      <td>15.6</td>\n",
       "    </tr>\n",
       "    <tr>\n",
       "      <th>423</th>\n",
       "      <td>7.05042</td>\n",
       "      <td>0.0</td>\n",
       "      <td>18.10</td>\n",
       "      <td>0</td>\n",
       "      <td>0.614</td>\n",
       "      <td>6.103</td>\n",
       "      <td>85.1</td>\n",
       "      <td>2.0218</td>\n",
       "      <td>24</td>\n",
       "      <td>666</td>\n",
       "      <td>20.2</td>\n",
       "      <td>2.52</td>\n",
       "      <td>23.29</td>\n",
       "      <td>13.4</td>\n",
       "    </tr>\n",
       "    <tr>\n",
       "      <th>98</th>\n",
       "      <td>0.08187</td>\n",
       "      <td>0.0</td>\n",
       "      <td>2.89</td>\n",
       "      <td>0</td>\n",
       "      <td>0.445</td>\n",
       "      <td>7.820</td>\n",
       "      <td>36.9</td>\n",
       "      <td>3.4952</td>\n",
       "      <td>2</td>\n",
       "      <td>276</td>\n",
       "      <td>18.0</td>\n",
       "      <td>393.53</td>\n",
       "      <td>3.57</td>\n",
       "      <td>43.8</td>\n",
       "    </tr>\n",
       "    <tr>\n",
       "      <th>455</th>\n",
       "      <td>4.75237</td>\n",
       "      <td>0.0</td>\n",
       "      <td>18.10</td>\n",
       "      <td>0</td>\n",
       "      <td>0.713</td>\n",
       "      <td>6.525</td>\n",
       "      <td>86.5</td>\n",
       "      <td>2.4358</td>\n",
       "      <td>24</td>\n",
       "      <td>666</td>\n",
       "      <td>20.2</td>\n",
       "      <td>50.92</td>\n",
       "      <td>18.13</td>\n",
       "      <td>14.1</td>\n",
       "    </tr>\n",
       "    <tr>\n",
       "      <th>216</th>\n",
       "      <td>0.04560</td>\n",
       "      <td>0.0</td>\n",
       "      <td>13.89</td>\n",
       "      <td>1</td>\n",
       "      <td>0.550</td>\n",
       "      <td>5.888</td>\n",
       "      <td>56.0</td>\n",
       "      <td>3.1121</td>\n",
       "      <td>5</td>\n",
       "      <td>276</td>\n",
       "      <td>16.4</td>\n",
       "      <td>392.80</td>\n",
       "      <td>13.51</td>\n",
       "      <td>23.3</td>\n",
       "    </tr>\n",
       "  </tbody>\n",
       "</table>\n",
       "<p>404 rows × 14 columns</p>\n",
       "</div>"
      ],
      "text/plain": [
       "        CRIM    ZN  INDUS  CHAS    NOX     RM   AGE     DIS  RAD  TAX   \n",
       "254  0.04819  80.0   3.64     0  0.392  6.108  32.0  9.2203    1  315  \\\n",
       "348  0.01501  80.0   2.01     0  0.435  6.635  29.7  8.3440    4  280   \n",
       "476  4.87141   0.0  18.10     0  0.614  6.484  93.6  2.3053   24  666   \n",
       "321  0.18159   0.0   7.38     0  0.493  6.376  54.3  4.5404    5  287   \n",
       "326  0.30347   0.0   7.38     0  0.493  6.312  28.9  5.4159    5  287   \n",
       "..       ...   ...    ...   ...    ...    ...   ...     ...  ...  ...   \n",
       "155  3.53501   0.0  19.58     1  0.871  6.152  82.6  1.7455    5  403   \n",
       "423  7.05042   0.0  18.10     0  0.614  6.103  85.1  2.0218   24  666   \n",
       "98   0.08187   0.0   2.89     0  0.445  7.820  36.9  3.4952    2  276   \n",
       "455  4.75237   0.0  18.10     0  0.713  6.525  86.5  2.4358   24  666   \n",
       "216  0.04560   0.0  13.89     1  0.550  5.888  56.0  3.1121    5  276   \n",
       "\n",
       "     PTRATIO       B  LSTAT  MEDV  \n",
       "254     16.4  392.89   6.57  21.9  \n",
       "348     17.0  390.94   5.99  24.5  \n",
       "476     20.2  396.21  18.68  16.7  \n",
       "321     19.6  396.90   6.87  23.1  \n",
       "326     19.6  396.90   6.15  23.0  \n",
       "..       ...     ...    ...   ...  \n",
       "155     14.7   88.01  15.02  15.6  \n",
       "423     20.2    2.52  23.29  13.4  \n",
       "98      18.0  393.53   3.57  43.8  \n",
       "455     20.2   50.92  18.13  14.1  \n",
       "216     16.4  392.80  13.51  23.3  \n",
       "\n",
       "[404 rows x 14 columns]"
      ]
     },
     "execution_count": 14,
     "metadata": {},
     "output_type": "execute_result"
    }
   ],
   "source": [
    "strat_train_set"
   ]
  },
  {
   "cell_type": "code",
   "execution_count": 15,
   "id": "0caa2c38",
   "metadata": {},
   "outputs": [
    {
     "data": {
      "text/html": [
       "<div>\n",
       "<style scoped>\n",
       "    .dataframe tbody tr th:only-of-type {\n",
       "        vertical-align: middle;\n",
       "    }\n",
       "\n",
       "    .dataframe tbody tr th {\n",
       "        vertical-align: top;\n",
       "    }\n",
       "\n",
       "    .dataframe thead th {\n",
       "        text-align: right;\n",
       "    }\n",
       "</style>\n",
       "<table border=\"1\" class=\"dataframe\">\n",
       "  <thead>\n",
       "    <tr style=\"text-align: right;\">\n",
       "      <th></th>\n",
       "      <th>CRIM</th>\n",
       "      <th>ZN</th>\n",
       "      <th>INDUS</th>\n",
       "      <th>CHAS</th>\n",
       "      <th>NOX</th>\n",
       "      <th>RM</th>\n",
       "      <th>AGE</th>\n",
       "      <th>DIS</th>\n",
       "      <th>RAD</th>\n",
       "      <th>TAX</th>\n",
       "      <th>PTRATIO</th>\n",
       "      <th>B</th>\n",
       "      <th>LSTAT</th>\n",
       "      <th>MEDV</th>\n",
       "    </tr>\n",
       "  </thead>\n",
       "  <tbody>\n",
       "    <tr>\n",
       "      <th>342</th>\n",
       "      <td>0.02498</td>\n",
       "      <td>0.0</td>\n",
       "      <td>1.89</td>\n",
       "      <td>0</td>\n",
       "      <td>0.518</td>\n",
       "      <td>6.540</td>\n",
       "      <td>59.7</td>\n",
       "      <td>6.2669</td>\n",
       "      <td>1</td>\n",
       "      <td>422</td>\n",
       "      <td>15.9</td>\n",
       "      <td>389.96</td>\n",
       "      <td>8.65</td>\n",
       "      <td>16.5</td>\n",
       "    </tr>\n",
       "    <tr>\n",
       "      <th>379</th>\n",
       "      <td>17.86670</td>\n",
       "      <td>0.0</td>\n",
       "      <td>18.10</td>\n",
       "      <td>0</td>\n",
       "      <td>0.671</td>\n",
       "      <td>6.223</td>\n",
       "      <td>100.0</td>\n",
       "      <td>1.3861</td>\n",
       "      <td>24</td>\n",
       "      <td>666</td>\n",
       "      <td>20.2</td>\n",
       "      <td>393.74</td>\n",
       "      <td>21.78</td>\n",
       "      <td>10.2</td>\n",
       "    </tr>\n",
       "    <tr>\n",
       "      <th>223</th>\n",
       "      <td>0.61470</td>\n",
       "      <td>0.0</td>\n",
       "      <td>6.20</td>\n",
       "      <td>0</td>\n",
       "      <td>0.507</td>\n",
       "      <td>6.618</td>\n",
       "      <td>80.8</td>\n",
       "      <td>3.2721</td>\n",
       "      <td>8</td>\n",
       "      <td>307</td>\n",
       "      <td>17.4</td>\n",
       "      <td>396.90</td>\n",
       "      <td>7.60</td>\n",
       "      <td>30.1</td>\n",
       "    </tr>\n",
       "    <tr>\n",
       "      <th>219</th>\n",
       "      <td>0.11425</td>\n",
       "      <td>0.0</td>\n",
       "      <td>13.89</td>\n",
       "      <td>1</td>\n",
       "      <td>0.550</td>\n",
       "      <td>6.373</td>\n",
       "      <td>92.4</td>\n",
       "      <td>3.3633</td>\n",
       "      <td>5</td>\n",
       "      <td>276</td>\n",
       "      <td>16.4</td>\n",
       "      <td>393.74</td>\n",
       "      <td>10.50</td>\n",
       "      <td>23.0</td>\n",
       "    </tr>\n",
       "    <tr>\n",
       "      <th>48</th>\n",
       "      <td>0.25387</td>\n",
       "      <td>0.0</td>\n",
       "      <td>6.91</td>\n",
       "      <td>0</td>\n",
       "      <td>0.448</td>\n",
       "      <td>5.399</td>\n",
       "      <td>95.3</td>\n",
       "      <td>5.8700</td>\n",
       "      <td>3</td>\n",
       "      <td>233</td>\n",
       "      <td>17.9</td>\n",
       "      <td>396.90</td>\n",
       "      <td>30.81</td>\n",
       "      <td>14.4</td>\n",
       "    </tr>\n",
       "    <tr>\n",
       "      <th>...</th>\n",
       "      <td>...</td>\n",
       "      <td>...</td>\n",
       "      <td>...</td>\n",
       "      <td>...</td>\n",
       "      <td>...</td>\n",
       "      <td>...</td>\n",
       "      <td>...</td>\n",
       "      <td>...</td>\n",
       "      <td>...</td>\n",
       "      <td>...</td>\n",
       "      <td>...</td>\n",
       "      <td>...</td>\n",
       "      <td>...</td>\n",
       "      <td>...</td>\n",
       "    </tr>\n",
       "    <tr>\n",
       "      <th>88</th>\n",
       "      <td>0.05660</td>\n",
       "      <td>0.0</td>\n",
       "      <td>3.41</td>\n",
       "      <td>0</td>\n",
       "      <td>0.489</td>\n",
       "      <td>7.007</td>\n",
       "      <td>86.3</td>\n",
       "      <td>3.4217</td>\n",
       "      <td>2</td>\n",
       "      <td>270</td>\n",
       "      <td>17.8</td>\n",
       "      <td>396.90</td>\n",
       "      <td>5.50</td>\n",
       "      <td>23.6</td>\n",
       "    </tr>\n",
       "    <tr>\n",
       "      <th>466</th>\n",
       "      <td>3.77498</td>\n",
       "      <td>0.0</td>\n",
       "      <td>18.10</td>\n",
       "      <td>0</td>\n",
       "      <td>0.655</td>\n",
       "      <td>5.952</td>\n",
       "      <td>84.7</td>\n",
       "      <td>2.8715</td>\n",
       "      <td>24</td>\n",
       "      <td>666</td>\n",
       "      <td>20.2</td>\n",
       "      <td>22.01</td>\n",
       "      <td>17.15</td>\n",
       "      <td>19.0</td>\n",
       "    </tr>\n",
       "    <tr>\n",
       "      <th>52</th>\n",
       "      <td>0.05360</td>\n",
       "      <td>21.0</td>\n",
       "      <td>5.64</td>\n",
       "      <td>0</td>\n",
       "      <td>0.439</td>\n",
       "      <td>6.511</td>\n",
       "      <td>21.1</td>\n",
       "      <td>6.8147</td>\n",
       "      <td>4</td>\n",
       "      <td>243</td>\n",
       "      <td>16.8</td>\n",
       "      <td>396.90</td>\n",
       "      <td>5.28</td>\n",
       "      <td>25.0</td>\n",
       "    </tr>\n",
       "    <tr>\n",
       "      <th>121</th>\n",
       "      <td>0.07165</td>\n",
       "      <td>0.0</td>\n",
       "      <td>25.65</td>\n",
       "      <td>0</td>\n",
       "      <td>0.581</td>\n",
       "      <td>6.004</td>\n",
       "      <td>84.1</td>\n",
       "      <td>2.1974</td>\n",
       "      <td>2</td>\n",
       "      <td>188</td>\n",
       "      <td>19.1</td>\n",
       "      <td>377.67</td>\n",
       "      <td>14.27</td>\n",
       "      <td>20.3</td>\n",
       "    </tr>\n",
       "    <tr>\n",
       "      <th>218</th>\n",
       "      <td>0.11069</td>\n",
       "      <td>0.0</td>\n",
       "      <td>13.89</td>\n",
       "      <td>1</td>\n",
       "      <td>0.550</td>\n",
       "      <td>5.951</td>\n",
       "      <td>93.8</td>\n",
       "      <td>2.8893</td>\n",
       "      <td>5</td>\n",
       "      <td>276</td>\n",
       "      <td>16.4</td>\n",
       "      <td>396.90</td>\n",
       "      <td>17.92</td>\n",
       "      <td>21.5</td>\n",
       "    </tr>\n",
       "  </tbody>\n",
       "</table>\n",
       "<p>102 rows × 14 columns</p>\n",
       "</div>"
      ],
      "text/plain": [
       "         CRIM    ZN  INDUS  CHAS    NOX     RM    AGE     DIS  RAD  TAX   \n",
       "342   0.02498   0.0   1.89     0  0.518  6.540   59.7  6.2669    1  422  \\\n",
       "379  17.86670   0.0  18.10     0  0.671  6.223  100.0  1.3861   24  666   \n",
       "223   0.61470   0.0   6.20     0  0.507  6.618   80.8  3.2721    8  307   \n",
       "219   0.11425   0.0  13.89     1  0.550  6.373   92.4  3.3633    5  276   \n",
       "48    0.25387   0.0   6.91     0  0.448  5.399   95.3  5.8700    3  233   \n",
       "..        ...   ...    ...   ...    ...    ...    ...     ...  ...  ...   \n",
       "88    0.05660   0.0   3.41     0  0.489  7.007   86.3  3.4217    2  270   \n",
       "466   3.77498   0.0  18.10     0  0.655  5.952   84.7  2.8715   24  666   \n",
       "52    0.05360  21.0   5.64     0  0.439  6.511   21.1  6.8147    4  243   \n",
       "121   0.07165   0.0  25.65     0  0.581  6.004   84.1  2.1974    2  188   \n",
       "218   0.11069   0.0  13.89     1  0.550  5.951   93.8  2.8893    5  276   \n",
       "\n",
       "     PTRATIO       B  LSTAT  MEDV  \n",
       "342     15.9  389.96   8.65  16.5  \n",
       "379     20.2  393.74  21.78  10.2  \n",
       "223     17.4  396.90   7.60  30.1  \n",
       "219     16.4  393.74  10.50  23.0  \n",
       "48      17.9  396.90  30.81  14.4  \n",
       "..       ...     ...    ...   ...  \n",
       "88      17.8  396.90   5.50  23.6  \n",
       "466     20.2   22.01  17.15  19.0  \n",
       "52      16.8  396.90   5.28  25.0  \n",
       "121     19.1  377.67  14.27  20.3  \n",
       "218     16.4  396.90  17.92  21.5  \n",
       "\n",
       "[102 rows x 14 columns]"
      ]
     },
     "execution_count": 15,
     "metadata": {},
     "output_type": "execute_result"
    }
   ],
   "source": [
    "strat_test_set"
   ]
  },
  {
   "cell_type": "code",
   "execution_count": 16,
   "id": "ef3474bf",
   "metadata": {},
   "outputs": [
    {
     "data": {
      "text/plain": [
       "CHAS\n",
       "0    95\n",
       "1     7\n",
       "Name: count, dtype: int64"
      ]
     },
     "execution_count": 16,
     "metadata": {},
     "output_type": "execute_result"
    }
   ],
   "source": [
    "# validating \"CHAS\" distribution over train and test set\n",
    "strat_test_set[\"CHAS\"].value_counts()"
   ]
  },
  {
   "cell_type": "code",
   "execution_count": 17,
   "id": "a7945b76",
   "metadata": {},
   "outputs": [
    {
     "data": {
      "text/plain": [
       "13.571428571428571"
      ]
     },
     "execution_count": 17,
     "metadata": {},
     "output_type": "execute_result"
    }
   ],
   "source": [
    "95/7"
   ]
  },
  {
   "cell_type": "code",
   "execution_count": 18,
   "id": "ee71c5e3",
   "metadata": {},
   "outputs": [
    {
     "data": {
      "text/plain": [
       "CHAS\n",
       "0    376\n",
       "1     28\n",
       "Name: count, dtype: int64"
      ]
     },
     "execution_count": 18,
     "metadata": {},
     "output_type": "execute_result"
    }
   ],
   "source": [
    "strat_train_set[\"CHAS\"].value_counts()"
   ]
  },
  {
   "cell_type": "code",
   "execution_count": 19,
   "id": "e047ab74",
   "metadata": {},
   "outputs": [
    {
     "data": {
      "text/plain": [
       "13.5"
      ]
     },
     "execution_count": 19,
     "metadata": {},
     "output_type": "execute_result"
    }
   ],
   "source": [
    "378/28"
   ]
  },
  {
   "cell_type": "code",
   "execution_count": 20,
   "id": "9e9b9290",
   "metadata": {},
   "outputs": [],
   "source": [
    "housing_train_features = strat_train_set.drop(\"MEDV\", axis= 1)\n",
    "housing_train_labels = strat_train_set[\"MEDV\"]\n",
    "housing_test_features = strat_test_set.drop(\"MEDV\", axis= 1)\n",
    "housing_test_labels = strat_test_set[\"MEDV\"]"
   ]
  },
  {
   "cell_type": "code",
   "execution_count": 21,
   "id": "6c4acf61",
   "metadata": {},
   "outputs": [
    {
     "data": {
      "text/html": [
       "<div>\n",
       "<style scoped>\n",
       "    .dataframe tbody tr th:only-of-type {\n",
       "        vertical-align: middle;\n",
       "    }\n",
       "\n",
       "    .dataframe tbody tr th {\n",
       "        vertical-align: top;\n",
       "    }\n",
       "\n",
       "    .dataframe thead th {\n",
       "        text-align: right;\n",
       "    }\n",
       "</style>\n",
       "<table border=\"1\" class=\"dataframe\">\n",
       "  <thead>\n",
       "    <tr style=\"text-align: right;\">\n",
       "      <th></th>\n",
       "      <th>CRIM</th>\n",
       "      <th>ZN</th>\n",
       "      <th>INDUS</th>\n",
       "      <th>CHAS</th>\n",
       "      <th>NOX</th>\n",
       "      <th>RM</th>\n",
       "      <th>AGE</th>\n",
       "      <th>DIS</th>\n",
       "      <th>RAD</th>\n",
       "      <th>TAX</th>\n",
       "      <th>PTRATIO</th>\n",
       "      <th>B</th>\n",
       "      <th>LSTAT</th>\n",
       "    </tr>\n",
       "  </thead>\n",
       "  <tbody>\n",
       "    <tr>\n",
       "      <th>342</th>\n",
       "      <td>0.02498</td>\n",
       "      <td>0.0</td>\n",
       "      <td>1.89</td>\n",
       "      <td>0</td>\n",
       "      <td>0.518</td>\n",
       "      <td>6.540</td>\n",
       "      <td>59.7</td>\n",
       "      <td>6.2669</td>\n",
       "      <td>1</td>\n",
       "      <td>422</td>\n",
       "      <td>15.9</td>\n",
       "      <td>389.96</td>\n",
       "      <td>8.65</td>\n",
       "    </tr>\n",
       "    <tr>\n",
       "      <th>379</th>\n",
       "      <td>17.86670</td>\n",
       "      <td>0.0</td>\n",
       "      <td>18.10</td>\n",
       "      <td>0</td>\n",
       "      <td>0.671</td>\n",
       "      <td>6.223</td>\n",
       "      <td>100.0</td>\n",
       "      <td>1.3861</td>\n",
       "      <td>24</td>\n",
       "      <td>666</td>\n",
       "      <td>20.2</td>\n",
       "      <td>393.74</td>\n",
       "      <td>21.78</td>\n",
       "    </tr>\n",
       "    <tr>\n",
       "      <th>223</th>\n",
       "      <td>0.61470</td>\n",
       "      <td>0.0</td>\n",
       "      <td>6.20</td>\n",
       "      <td>0</td>\n",
       "      <td>0.507</td>\n",
       "      <td>6.618</td>\n",
       "      <td>80.8</td>\n",
       "      <td>3.2721</td>\n",
       "      <td>8</td>\n",
       "      <td>307</td>\n",
       "      <td>17.4</td>\n",
       "      <td>396.90</td>\n",
       "      <td>7.60</td>\n",
       "    </tr>\n",
       "    <tr>\n",
       "      <th>219</th>\n",
       "      <td>0.11425</td>\n",
       "      <td>0.0</td>\n",
       "      <td>13.89</td>\n",
       "      <td>1</td>\n",
       "      <td>0.550</td>\n",
       "      <td>6.373</td>\n",
       "      <td>92.4</td>\n",
       "      <td>3.3633</td>\n",
       "      <td>5</td>\n",
       "      <td>276</td>\n",
       "      <td>16.4</td>\n",
       "      <td>393.74</td>\n",
       "      <td>10.50</td>\n",
       "    </tr>\n",
       "    <tr>\n",
       "      <th>48</th>\n",
       "      <td>0.25387</td>\n",
       "      <td>0.0</td>\n",
       "      <td>6.91</td>\n",
       "      <td>0</td>\n",
       "      <td>0.448</td>\n",
       "      <td>5.399</td>\n",
       "      <td>95.3</td>\n",
       "      <td>5.8700</td>\n",
       "      <td>3</td>\n",
       "      <td>233</td>\n",
       "      <td>17.9</td>\n",
       "      <td>396.90</td>\n",
       "      <td>30.81</td>\n",
       "    </tr>\n",
       "    <tr>\n",
       "      <th>...</th>\n",
       "      <td>...</td>\n",
       "      <td>...</td>\n",
       "      <td>...</td>\n",
       "      <td>...</td>\n",
       "      <td>...</td>\n",
       "      <td>...</td>\n",
       "      <td>...</td>\n",
       "      <td>...</td>\n",
       "      <td>...</td>\n",
       "      <td>...</td>\n",
       "      <td>...</td>\n",
       "      <td>...</td>\n",
       "      <td>...</td>\n",
       "    </tr>\n",
       "    <tr>\n",
       "      <th>88</th>\n",
       "      <td>0.05660</td>\n",
       "      <td>0.0</td>\n",
       "      <td>3.41</td>\n",
       "      <td>0</td>\n",
       "      <td>0.489</td>\n",
       "      <td>7.007</td>\n",
       "      <td>86.3</td>\n",
       "      <td>3.4217</td>\n",
       "      <td>2</td>\n",
       "      <td>270</td>\n",
       "      <td>17.8</td>\n",
       "      <td>396.90</td>\n",
       "      <td>5.50</td>\n",
       "    </tr>\n",
       "    <tr>\n",
       "      <th>466</th>\n",
       "      <td>3.77498</td>\n",
       "      <td>0.0</td>\n",
       "      <td>18.10</td>\n",
       "      <td>0</td>\n",
       "      <td>0.655</td>\n",
       "      <td>5.952</td>\n",
       "      <td>84.7</td>\n",
       "      <td>2.8715</td>\n",
       "      <td>24</td>\n",
       "      <td>666</td>\n",
       "      <td>20.2</td>\n",
       "      <td>22.01</td>\n",
       "      <td>17.15</td>\n",
       "    </tr>\n",
       "    <tr>\n",
       "      <th>52</th>\n",
       "      <td>0.05360</td>\n",
       "      <td>21.0</td>\n",
       "      <td>5.64</td>\n",
       "      <td>0</td>\n",
       "      <td>0.439</td>\n",
       "      <td>6.511</td>\n",
       "      <td>21.1</td>\n",
       "      <td>6.8147</td>\n",
       "      <td>4</td>\n",
       "      <td>243</td>\n",
       "      <td>16.8</td>\n",
       "      <td>396.90</td>\n",
       "      <td>5.28</td>\n",
       "    </tr>\n",
       "    <tr>\n",
       "      <th>121</th>\n",
       "      <td>0.07165</td>\n",
       "      <td>0.0</td>\n",
       "      <td>25.65</td>\n",
       "      <td>0</td>\n",
       "      <td>0.581</td>\n",
       "      <td>6.004</td>\n",
       "      <td>84.1</td>\n",
       "      <td>2.1974</td>\n",
       "      <td>2</td>\n",
       "      <td>188</td>\n",
       "      <td>19.1</td>\n",
       "      <td>377.67</td>\n",
       "      <td>14.27</td>\n",
       "    </tr>\n",
       "    <tr>\n",
       "      <th>218</th>\n",
       "      <td>0.11069</td>\n",
       "      <td>0.0</td>\n",
       "      <td>13.89</td>\n",
       "      <td>1</td>\n",
       "      <td>0.550</td>\n",
       "      <td>5.951</td>\n",
       "      <td>93.8</td>\n",
       "      <td>2.8893</td>\n",
       "      <td>5</td>\n",
       "      <td>276</td>\n",
       "      <td>16.4</td>\n",
       "      <td>396.90</td>\n",
       "      <td>17.92</td>\n",
       "    </tr>\n",
       "  </tbody>\n",
       "</table>\n",
       "<p>102 rows × 13 columns</p>\n",
       "</div>"
      ],
      "text/plain": [
       "         CRIM    ZN  INDUS  CHAS    NOX     RM    AGE     DIS  RAD  TAX   \n",
       "342   0.02498   0.0   1.89     0  0.518  6.540   59.7  6.2669    1  422  \\\n",
       "379  17.86670   0.0  18.10     0  0.671  6.223  100.0  1.3861   24  666   \n",
       "223   0.61470   0.0   6.20     0  0.507  6.618   80.8  3.2721    8  307   \n",
       "219   0.11425   0.0  13.89     1  0.550  6.373   92.4  3.3633    5  276   \n",
       "48    0.25387   0.0   6.91     0  0.448  5.399   95.3  5.8700    3  233   \n",
       "..        ...   ...    ...   ...    ...    ...    ...     ...  ...  ...   \n",
       "88    0.05660   0.0   3.41     0  0.489  7.007   86.3  3.4217    2  270   \n",
       "466   3.77498   0.0  18.10     0  0.655  5.952   84.7  2.8715   24  666   \n",
       "52    0.05360  21.0   5.64     0  0.439  6.511   21.1  6.8147    4  243   \n",
       "121   0.07165   0.0  25.65     0  0.581  6.004   84.1  2.1974    2  188   \n",
       "218   0.11069   0.0  13.89     1  0.550  5.951   93.8  2.8893    5  276   \n",
       "\n",
       "     PTRATIO       B  LSTAT  \n",
       "342     15.9  389.96   8.65  \n",
       "379     20.2  393.74  21.78  \n",
       "223     17.4  396.90   7.60  \n",
       "219     16.4  393.74  10.50  \n",
       "48      17.9  396.90  30.81  \n",
       "..       ...     ...    ...  \n",
       "88      17.8  396.90   5.50  \n",
       "466     20.2   22.01  17.15  \n",
       "52      16.8  396.90   5.28  \n",
       "121     19.1  377.67  14.27  \n",
       "218     16.4  396.90  17.92  \n",
       "\n",
       "[102 rows x 13 columns]"
      ]
     },
     "execution_count": 21,
     "metadata": {},
     "output_type": "execute_result"
    }
   ],
   "source": [
    "housing_test_features"
   ]
  },
  {
   "cell_type": "code",
   "execution_count": 22,
   "id": "ed564f13",
   "metadata": {},
   "outputs": [
    {
     "data": {
      "text/plain": [
       "342    16.5\n",
       "379    10.2\n",
       "223    30.1\n",
       "219    23.0\n",
       "48     14.4\n",
       "       ... \n",
       "88     23.6\n",
       "466    19.0\n",
       "52     25.0\n",
       "121    20.3\n",
       "218    21.5\n",
       "Name: MEDV, Length: 102, dtype: float64"
      ]
     },
     "execution_count": 22,
     "metadata": {},
     "output_type": "execute_result"
    }
   ],
   "source": [
    "housing_test_labels"
   ]
  },
  {
   "cell_type": "code",
   "execution_count": 23,
   "id": "c696ed1a",
   "metadata": {},
   "outputs": [
    {
     "data": {
      "text/html": [
       "<div>\n",
       "<style scoped>\n",
       "    .dataframe tbody tr th:only-of-type {\n",
       "        vertical-align: middle;\n",
       "    }\n",
       "\n",
       "    .dataframe tbody tr th {\n",
       "        vertical-align: top;\n",
       "    }\n",
       "\n",
       "    .dataframe thead th {\n",
       "        text-align: right;\n",
       "    }\n",
       "</style>\n",
       "<table border=\"1\" class=\"dataframe\">\n",
       "  <thead>\n",
       "    <tr style=\"text-align: right;\">\n",
       "      <th></th>\n",
       "      <th>CRIM</th>\n",
       "      <th>ZN</th>\n",
       "      <th>INDUS</th>\n",
       "      <th>CHAS</th>\n",
       "      <th>NOX</th>\n",
       "      <th>RM</th>\n",
       "      <th>AGE</th>\n",
       "      <th>DIS</th>\n",
       "      <th>RAD</th>\n",
       "      <th>TAX</th>\n",
       "      <th>PTRATIO</th>\n",
       "      <th>B</th>\n",
       "      <th>LSTAT</th>\n",
       "    </tr>\n",
       "  </thead>\n",
       "  <tbody>\n",
       "    <tr>\n",
       "      <th>254</th>\n",
       "      <td>0.04819</td>\n",
       "      <td>80.0</td>\n",
       "      <td>3.64</td>\n",
       "      <td>0</td>\n",
       "      <td>0.392</td>\n",
       "      <td>6.108</td>\n",
       "      <td>32.0</td>\n",
       "      <td>9.2203</td>\n",
       "      <td>1</td>\n",
       "      <td>315</td>\n",
       "      <td>16.4</td>\n",
       "      <td>392.89</td>\n",
       "      <td>6.57</td>\n",
       "    </tr>\n",
       "    <tr>\n",
       "      <th>348</th>\n",
       "      <td>0.01501</td>\n",
       "      <td>80.0</td>\n",
       "      <td>2.01</td>\n",
       "      <td>0</td>\n",
       "      <td>0.435</td>\n",
       "      <td>6.635</td>\n",
       "      <td>29.7</td>\n",
       "      <td>8.3440</td>\n",
       "      <td>4</td>\n",
       "      <td>280</td>\n",
       "      <td>17.0</td>\n",
       "      <td>390.94</td>\n",
       "      <td>5.99</td>\n",
       "    </tr>\n",
       "    <tr>\n",
       "      <th>476</th>\n",
       "      <td>4.87141</td>\n",
       "      <td>0.0</td>\n",
       "      <td>18.10</td>\n",
       "      <td>0</td>\n",
       "      <td>0.614</td>\n",
       "      <td>6.484</td>\n",
       "      <td>93.6</td>\n",
       "      <td>2.3053</td>\n",
       "      <td>24</td>\n",
       "      <td>666</td>\n",
       "      <td>20.2</td>\n",
       "      <td>396.21</td>\n",
       "      <td>18.68</td>\n",
       "    </tr>\n",
       "    <tr>\n",
       "      <th>321</th>\n",
       "      <td>0.18159</td>\n",
       "      <td>0.0</td>\n",
       "      <td>7.38</td>\n",
       "      <td>0</td>\n",
       "      <td>0.493</td>\n",
       "      <td>6.376</td>\n",
       "      <td>54.3</td>\n",
       "      <td>4.5404</td>\n",
       "      <td>5</td>\n",
       "      <td>287</td>\n",
       "      <td>19.6</td>\n",
       "      <td>396.90</td>\n",
       "      <td>6.87</td>\n",
       "    </tr>\n",
       "    <tr>\n",
       "      <th>326</th>\n",
       "      <td>0.30347</td>\n",
       "      <td>0.0</td>\n",
       "      <td>7.38</td>\n",
       "      <td>0</td>\n",
       "      <td>0.493</td>\n",
       "      <td>6.312</td>\n",
       "      <td>28.9</td>\n",
       "      <td>5.4159</td>\n",
       "      <td>5</td>\n",
       "      <td>287</td>\n",
       "      <td>19.6</td>\n",
       "      <td>396.90</td>\n",
       "      <td>6.15</td>\n",
       "    </tr>\n",
       "    <tr>\n",
       "      <th>...</th>\n",
       "      <td>...</td>\n",
       "      <td>...</td>\n",
       "      <td>...</td>\n",
       "      <td>...</td>\n",
       "      <td>...</td>\n",
       "      <td>...</td>\n",
       "      <td>...</td>\n",
       "      <td>...</td>\n",
       "      <td>...</td>\n",
       "      <td>...</td>\n",
       "      <td>...</td>\n",
       "      <td>...</td>\n",
       "      <td>...</td>\n",
       "    </tr>\n",
       "    <tr>\n",
       "      <th>155</th>\n",
       "      <td>3.53501</td>\n",
       "      <td>0.0</td>\n",
       "      <td>19.58</td>\n",
       "      <td>1</td>\n",
       "      <td>0.871</td>\n",
       "      <td>6.152</td>\n",
       "      <td>82.6</td>\n",
       "      <td>1.7455</td>\n",
       "      <td>5</td>\n",
       "      <td>403</td>\n",
       "      <td>14.7</td>\n",
       "      <td>88.01</td>\n",
       "      <td>15.02</td>\n",
       "    </tr>\n",
       "    <tr>\n",
       "      <th>423</th>\n",
       "      <td>7.05042</td>\n",
       "      <td>0.0</td>\n",
       "      <td>18.10</td>\n",
       "      <td>0</td>\n",
       "      <td>0.614</td>\n",
       "      <td>6.103</td>\n",
       "      <td>85.1</td>\n",
       "      <td>2.0218</td>\n",
       "      <td>24</td>\n",
       "      <td>666</td>\n",
       "      <td>20.2</td>\n",
       "      <td>2.52</td>\n",
       "      <td>23.29</td>\n",
       "    </tr>\n",
       "    <tr>\n",
       "      <th>98</th>\n",
       "      <td>0.08187</td>\n",
       "      <td>0.0</td>\n",
       "      <td>2.89</td>\n",
       "      <td>0</td>\n",
       "      <td>0.445</td>\n",
       "      <td>7.820</td>\n",
       "      <td>36.9</td>\n",
       "      <td>3.4952</td>\n",
       "      <td>2</td>\n",
       "      <td>276</td>\n",
       "      <td>18.0</td>\n",
       "      <td>393.53</td>\n",
       "      <td>3.57</td>\n",
       "    </tr>\n",
       "    <tr>\n",
       "      <th>455</th>\n",
       "      <td>4.75237</td>\n",
       "      <td>0.0</td>\n",
       "      <td>18.10</td>\n",
       "      <td>0</td>\n",
       "      <td>0.713</td>\n",
       "      <td>6.525</td>\n",
       "      <td>86.5</td>\n",
       "      <td>2.4358</td>\n",
       "      <td>24</td>\n",
       "      <td>666</td>\n",
       "      <td>20.2</td>\n",
       "      <td>50.92</td>\n",
       "      <td>18.13</td>\n",
       "    </tr>\n",
       "    <tr>\n",
       "      <th>216</th>\n",
       "      <td>0.04560</td>\n",
       "      <td>0.0</td>\n",
       "      <td>13.89</td>\n",
       "      <td>1</td>\n",
       "      <td>0.550</td>\n",
       "      <td>5.888</td>\n",
       "      <td>56.0</td>\n",
       "      <td>3.1121</td>\n",
       "      <td>5</td>\n",
       "      <td>276</td>\n",
       "      <td>16.4</td>\n",
       "      <td>392.80</td>\n",
       "      <td>13.51</td>\n",
       "    </tr>\n",
       "  </tbody>\n",
       "</table>\n",
       "<p>404 rows × 13 columns</p>\n",
       "</div>"
      ],
      "text/plain": [
       "        CRIM    ZN  INDUS  CHAS    NOX     RM   AGE     DIS  RAD  TAX   \n",
       "254  0.04819  80.0   3.64     0  0.392  6.108  32.0  9.2203    1  315  \\\n",
       "348  0.01501  80.0   2.01     0  0.435  6.635  29.7  8.3440    4  280   \n",
       "476  4.87141   0.0  18.10     0  0.614  6.484  93.6  2.3053   24  666   \n",
       "321  0.18159   0.0   7.38     0  0.493  6.376  54.3  4.5404    5  287   \n",
       "326  0.30347   0.0   7.38     0  0.493  6.312  28.9  5.4159    5  287   \n",
       "..       ...   ...    ...   ...    ...    ...   ...     ...  ...  ...   \n",
       "155  3.53501   0.0  19.58     1  0.871  6.152  82.6  1.7455    5  403   \n",
       "423  7.05042   0.0  18.10     0  0.614  6.103  85.1  2.0218   24  666   \n",
       "98   0.08187   0.0   2.89     0  0.445  7.820  36.9  3.4952    2  276   \n",
       "455  4.75237   0.0  18.10     0  0.713  6.525  86.5  2.4358   24  666   \n",
       "216  0.04560   0.0  13.89     1  0.550  5.888  56.0  3.1121    5  276   \n",
       "\n",
       "     PTRATIO       B  LSTAT  \n",
       "254     16.4  392.89   6.57  \n",
       "348     17.0  390.94   5.99  \n",
       "476     20.2  396.21  18.68  \n",
       "321     19.6  396.90   6.87  \n",
       "326     19.6  396.90   6.15  \n",
       "..       ...     ...    ...  \n",
       "155     14.7   88.01  15.02  \n",
       "423     20.2    2.52  23.29  \n",
       "98      18.0  393.53   3.57  \n",
       "455     20.2   50.92  18.13  \n",
       "216     16.4  392.80  13.51  \n",
       "\n",
       "[404 rows x 13 columns]"
      ]
     },
     "execution_count": 23,
     "metadata": {},
     "output_type": "execute_result"
    }
   ],
   "source": [
    "housing_train_features"
   ]
  },
  {
   "cell_type": "code",
   "execution_count": 24,
   "id": "57ce6b35",
   "metadata": {},
   "outputs": [
    {
     "data": {
      "text/plain": [
       "254    21.9\n",
       "348    24.5\n",
       "476    16.7\n",
       "321    23.1\n",
       "326    23.0\n",
       "       ... \n",
       "155    15.6\n",
       "423    13.4\n",
       "98     43.8\n",
       "455    14.1\n",
       "216    23.3\n",
       "Name: MEDV, Length: 404, dtype: float64"
      ]
     },
     "execution_count": 24,
     "metadata": {},
     "output_type": "execute_result"
    }
   ],
   "source": [
    "housing_train_labels"
   ]
  },
  {
   "cell_type": "markdown",
   "id": "42a79d63",
   "metadata": {},
   "source": [
    "# Building Pipeline for Data transformation"
   ]
  },
  {
   "cell_type": "code",
   "execution_count": 25,
   "id": "94176d67",
   "metadata": {},
   "outputs": [],
   "source": [
    "# building pipeline for data transformation like- imputing, standa=ardization\n",
    "my_pipeline= Pipeline([\n",
    "    (\"imputer\", SimpleImputer(strategy= \"median\")),\n",
    "    (\"std_scaler\", StandardScaler()),\n",
    "    \n",
    "    # ...multiple data transformation strategy..\n",
    "    \n",
    "    \n",
    "])\n",
    "\n",
    "housing_train_tr_features = my_pipeline.fit_transform(housing_train_features)\n",
    "housing_test_tr_features = my_pipeline.fit_transform(housing_test_features)"
   ]
  },
  {
   "cell_type": "code",
   "execution_count": 26,
   "id": "3ea2a2dd",
   "metadata": {},
   "outputs": [
    {
     "data": {
      "text/plain": [
       "array([[-0.43942006,  3.12628155, -1.12165014, ..., -0.97491834,\n",
       "         0.41164221, -0.86091034],\n",
       "       [-0.44352175,  3.12628155, -1.35893781, ..., -0.69277865,\n",
       "         0.39131918, -0.94116739],\n",
       "       [ 0.15682292, -0.4898311 ,  0.98336806, ...,  0.81196637,\n",
       "         0.44624347,  0.81480158],\n",
       "       ...,\n",
       "       [-0.43525657, -0.4898311 , -1.23083158, ..., -0.22254583,\n",
       "         0.41831233, -1.27603303],\n",
       "       [ 0.14210728, -0.4898311 ,  0.98336806, ...,  0.81196637,\n",
       "        -3.15239177,  0.73869575],\n",
       "       [-0.43974024, -0.4898311 ,  0.37049623, ..., -0.97491834,\n",
       "         0.41070422,  0.09940681]])"
      ]
     },
     "execution_count": 26,
     "metadata": {},
     "output_type": "execute_result"
    }
   ],
   "source": [
    "housing_train_tr_features"
   ]
  },
  {
   "cell_type": "code",
   "execution_count": 27,
   "id": "942f5065",
   "metadata": {},
   "outputs": [
    {
     "data": {
      "text/plain": [
       "(404, 13)"
      ]
     },
     "execution_count": 27,
     "metadata": {},
     "output_type": "execute_result"
    }
   ],
   "source": [
    "housing_train_tr_features.shape"
   ]
  },
  {
   "cell_type": "code",
   "execution_count": 28,
   "id": "fb8eeabe",
   "metadata": {},
   "outputs": [
    {
     "data": {
      "text/plain": [
       "array([-0.43942006,  3.12628155, -1.12165014, -0.27288841, -1.42262747,\n",
       "       -0.23877085, -1.31238772,  2.61111401, -1.0016859 , -0.5778192 ,\n",
       "       -0.97491834,  0.41164221, -0.86091034])"
      ]
     },
     "execution_count": 28,
     "metadata": {},
     "output_type": "execute_result"
    }
   ],
   "source": [
    "housing_train_tr_features[0,:]"
   ]
  },
  {
   "cell_type": "code",
   "execution_count": 29,
   "id": "3015ee5a",
   "metadata": {},
   "outputs": [
    {
     "data": {
      "text/plain": [
       "array([[-0.35082247, -0.49148409, -1.25183452, ..., -1.08091535,\n",
       "         0.2995192 , -0.51357301],\n",
       "       [ 1.37303938, -0.49148409,  1.15752471, ...,  0.78926008,\n",
       "         0.35531976,  1.43854081],\n",
       "       [-0.2938439 , -0.49148409, -0.61122142, ..., -0.42852857,\n",
       "         0.40196786, -0.66968264],\n",
       "       ...,\n",
       "       [-0.34805722,  0.27583291, -0.69445654, ..., -0.68948328,\n",
       "         0.40196786, -1.0146106 ],\n",
       "       [-0.34631323, -0.49148409,  2.27971238, ...,  0.31084311,\n",
       "         0.11809354,  0.32198523],\n",
       "       [-0.3425412 , -0.49148409,  0.53177502, ..., -0.86345309,\n",
       "         0.40196786,  0.86465206]])"
      ]
     },
     "execution_count": 29,
     "metadata": {},
     "output_type": "execute_result"
    }
   ],
   "source": [
    "housing_test_tr_features"
   ]
  },
  {
   "cell_type": "code",
   "execution_count": 30,
   "id": "bf48e202",
   "metadata": {},
   "outputs": [
    {
     "data": {
      "text/plain": [
       "(102, 13)"
      ]
     },
     "execution_count": 30,
     "metadata": {},
     "output_type": "execute_result"
    }
   ],
   "source": [
    "housing_test_tr_features.shape"
   ]
  },
  {
   "cell_type": "code",
   "execution_count": 31,
   "id": "54f6ee35",
   "metadata": {},
   "outputs": [
    {
     "data": {
      "text/plain": [
       "array([[-0.35082247, -0.49148409, -1.25183452, -0.27144836, -0.21067276,\n",
       "         0.35869844, -0.25450164,  1.07434355, -0.91150503,  0.17974455,\n",
       "        -1.08091535,  0.2995192 , -0.51357301],\n",
       "       [ 1.37303938, -0.49148409,  1.15752471, -0.27144836,  1.16957874,\n",
       "        -0.12179519,  1.20375658, -1.22708003,  1.7715449 ,  1.64071199,\n",
       "         0.78926008,  0.35531976,  1.43854081],\n",
       "       [-0.2938439 , -0.49148409, -0.61122142, -0.27144836, -0.30990653,\n",
       "         0.47692715,  0.50900328, -0.3377822 , -0.09492461, -0.50882617,\n",
       "        -0.42852857,  0.40196786, -0.66968264],\n",
       "       [-0.34219723, -0.49148409,  0.53177502,  3.68394199,  0.07800729,\n",
       "         0.10556772,  0.92875007, -0.29477903, -0.44488765, -0.69444089,\n",
       "        -0.86345309,  0.35531976, -0.2385227 ],\n",
       "       [-0.32870719, -0.49148409, -0.50569119, -0.27144836, -0.84216037,\n",
       "        -1.37077548,  1.03368676,  0.88719492, -0.67819634, -0.95190646,\n",
       "        -0.21106631,  0.40196786,  2.78108368]])"
      ]
     },
     "execution_count": 31,
     "metadata": {},
     "output_type": "execute_result"
    }
   ],
   "source": [
    "housing_test_tr_features[0:5,:]"
   ]
  },
  {
   "cell_type": "markdown",
   "id": "84f1c872",
   "metadata": {},
   "source": [
    "# parameter for model\n",
    "\n",
    "* traing features- housing_train_tr_features\n",
    "* traing labels- housing_train_labels\n",
    "\n",
    "* test features- housing_test_tr_features\n",
    "* test labels- housing_test_labels"
   ]
  },
  {
   "cell_type": "markdown",
   "id": "92a6f946",
   "metadata": {},
   "source": [
    "# Training Model"
   ]
  },
  {
   "cell_type": "code",
   "execution_count": 32,
   "id": "a5d0bab9",
   "metadata": {},
   "outputs": [],
   "source": [
    "#selecting the model\n",
    "model = LinearRegression()"
   ]
  },
  {
   "cell_type": "code",
   "execution_count": 33,
   "id": "9db54f70",
   "metadata": {},
   "outputs": [
    {
     "data": {
      "text/html": [
       "<style>#sk-container-id-1 {color: black;background-color: white;}#sk-container-id-1 pre{padding: 0;}#sk-container-id-1 div.sk-toggleable {background-color: white;}#sk-container-id-1 label.sk-toggleable__label {cursor: pointer;display: block;width: 100%;margin-bottom: 0;padding: 0.3em;box-sizing: border-box;text-align: center;}#sk-container-id-1 label.sk-toggleable__label-arrow:before {content: \"▸\";float: left;margin-right: 0.25em;color: #696969;}#sk-container-id-1 label.sk-toggleable__label-arrow:hover:before {color: black;}#sk-container-id-1 div.sk-estimator:hover label.sk-toggleable__label-arrow:before {color: black;}#sk-container-id-1 div.sk-toggleable__content {max-height: 0;max-width: 0;overflow: hidden;text-align: left;background-color: #f0f8ff;}#sk-container-id-1 div.sk-toggleable__content pre {margin: 0.2em;color: black;border-radius: 0.25em;background-color: #f0f8ff;}#sk-container-id-1 input.sk-toggleable__control:checked~div.sk-toggleable__content {max-height: 200px;max-width: 100%;overflow: auto;}#sk-container-id-1 input.sk-toggleable__control:checked~label.sk-toggleable__label-arrow:before {content: \"▾\";}#sk-container-id-1 div.sk-estimator input.sk-toggleable__control:checked~label.sk-toggleable__label {background-color: #d4ebff;}#sk-container-id-1 div.sk-label input.sk-toggleable__control:checked~label.sk-toggleable__label {background-color: #d4ebff;}#sk-container-id-1 input.sk-hidden--visually {border: 0;clip: rect(1px 1px 1px 1px);clip: rect(1px, 1px, 1px, 1px);height: 1px;margin: -1px;overflow: hidden;padding: 0;position: absolute;width: 1px;}#sk-container-id-1 div.sk-estimator {font-family: monospace;background-color: #f0f8ff;border: 1px dotted black;border-radius: 0.25em;box-sizing: border-box;margin-bottom: 0.5em;}#sk-container-id-1 div.sk-estimator:hover {background-color: #d4ebff;}#sk-container-id-1 div.sk-parallel-item::after {content: \"\";width: 100%;border-bottom: 1px solid gray;flex-grow: 1;}#sk-container-id-1 div.sk-label:hover label.sk-toggleable__label {background-color: #d4ebff;}#sk-container-id-1 div.sk-serial::before {content: \"\";position: absolute;border-left: 1px solid gray;box-sizing: border-box;top: 0;bottom: 0;left: 50%;z-index: 0;}#sk-container-id-1 div.sk-serial {display: flex;flex-direction: column;align-items: center;background-color: white;padding-right: 0.2em;padding-left: 0.2em;position: relative;}#sk-container-id-1 div.sk-item {position: relative;z-index: 1;}#sk-container-id-1 div.sk-parallel {display: flex;align-items: stretch;justify-content: center;background-color: white;position: relative;}#sk-container-id-1 div.sk-item::before, #sk-container-id-1 div.sk-parallel-item::before {content: \"\";position: absolute;border-left: 1px solid gray;box-sizing: border-box;top: 0;bottom: 0;left: 50%;z-index: -1;}#sk-container-id-1 div.sk-parallel-item {display: flex;flex-direction: column;z-index: 1;position: relative;background-color: white;}#sk-container-id-1 div.sk-parallel-item:first-child::after {align-self: flex-end;width: 50%;}#sk-container-id-1 div.sk-parallel-item:last-child::after {align-self: flex-start;width: 50%;}#sk-container-id-1 div.sk-parallel-item:only-child::after {width: 0;}#sk-container-id-1 div.sk-dashed-wrapped {border: 1px dashed gray;margin: 0 0.4em 0.5em 0.4em;box-sizing: border-box;padding-bottom: 0.4em;background-color: white;}#sk-container-id-1 div.sk-label label {font-family: monospace;font-weight: bold;display: inline-block;line-height: 1.2em;}#sk-container-id-1 div.sk-label-container {text-align: center;}#sk-container-id-1 div.sk-container {/* jupyter's `normalize.less` sets `[hidden] { display: none; }` but bootstrap.min.css set `[hidden] { display: none !important; }` so we also need the `!important` here to be able to override the default hidden behavior on the sphinx rendered scikit-learn.org. See: https://github.com/scikit-learn/scikit-learn/issues/21755 */display: inline-block !important;position: relative;}#sk-container-id-1 div.sk-text-repr-fallback {display: none;}</style><div id=\"sk-container-id-1\" class=\"sk-top-container\"><div class=\"sk-text-repr-fallback\"><pre>LinearRegression()</pre><b>In a Jupyter environment, please rerun this cell to show the HTML representation or trust the notebook. <br />On GitHub, the HTML representation is unable to render, please try loading this page with nbviewer.org.</b></div><div class=\"sk-container\" hidden><div class=\"sk-item\"><div class=\"sk-estimator sk-toggleable\"><input class=\"sk-toggleable__control sk-hidden--visually\" id=\"sk-estimator-id-1\" type=\"checkbox\" checked><label for=\"sk-estimator-id-1\" class=\"sk-toggleable__label sk-toggleable__label-arrow\">LinearRegression</label><div class=\"sk-toggleable__content\"><pre>LinearRegression()</pre></div></div></div></div></div>"
      ],
      "text/plain": [
       "LinearRegression()"
      ]
     },
     "execution_count": 33,
     "metadata": {},
     "output_type": "execute_result"
    }
   ],
   "source": [
    "#taining model\n",
    "model.fit(housing_train_tr_features, housing_train_labels)"
   ]
  },
  {
   "cell_type": "code",
   "execution_count": 34,
   "id": "4017f7a3",
   "metadata": {},
   "outputs": [
    {
     "data": {
      "text/plain": [
       "array([[-0.34857993,  2.43162828, -0.99172479, -0.27144836, -1.34735047,\n",
       "        -0.29610676, -1.25682801,  2.46694812, -0.91150503, -0.4609256 ,\n",
       "        -0.86345309,  0.34277202, -0.82281876],\n",
       "       [-0.35178577,  2.43162828, -1.23399842, -0.27144836, -0.95943665,\n",
       "         0.50269495, -1.34005367,  2.05374998, -0.56154199, -0.6704906 ,\n",
       "        -0.60249838,  0.31398601, -0.90905075],\n",
       "       [ 0.1174382 , -0.49148409,  1.15752471, -0.27144836,  0.6553674 ,\n",
       "         0.27381628,  0.97217215, -0.79365343,  1.7715449 ,  1.64071199,\n",
       "         0.78926008,  0.39178204,  0.9776457 ],\n",
       "       [-0.33569086, -0.49148409, -0.43583315, -0.27144836, -0.43620405,\n",
       "         0.11011498, -0.44990101,  0.26025409, -0.44488765, -0.6285776 ,\n",
       "         0.52830537,  0.40196786, -0.77821601],\n",
       "       [-0.32391485, -0.49148409, -0.43583315, -0.27144836, -0.43620405,\n",
       "         0.0131068 , -1.36900172,  0.67307501, -0.44488765, -0.6285776 ,\n",
       "         0.52830537,  0.40196786, -0.88526261]])"
      ]
     },
     "execution_count": 34,
     "metadata": {},
     "output_type": "execute_result"
    }
   ],
   "source": [
    "# pridictiong some exiting datapoints for idea about error\n",
    "some_data = housing_train_features.iloc[:5]\n",
    "some_data_tr  = my_pipeline.transform(some_data)\n",
    "some_data_tr"
   ]
  },
  {
   "cell_type": "code",
   "execution_count": 35,
   "id": "7b67ea94",
   "metadata": {},
   "outputs": [
    {
     "data": {
      "text/plain": [
       "array([[-0.43942006,  3.12628155, -1.12165014, ..., -0.97491834,\n",
       "         0.41164221, -0.86091034],\n",
       "       [-0.44352175,  3.12628155, -1.35893781, ..., -0.69277865,\n",
       "         0.39131918, -0.94116739],\n",
       "       [ 0.15682292, -0.4898311 ,  0.98336806, ...,  0.81196637,\n",
       "         0.44624347,  0.81480158],\n",
       "       ...,\n",
       "       [-0.43525657, -0.4898311 , -1.23083158, ..., -0.22254583,\n",
       "         0.41831233, -1.27603303],\n",
       "       [ 0.14210728, -0.4898311 ,  0.98336806, ...,  0.81196637,\n",
       "        -3.15239177,  0.73869575],\n",
       "       [-0.43974024, -0.4898311 ,  0.37049623, ..., -0.97491834,\n",
       "         0.41070422,  0.09940681]])"
      ]
     },
     "execution_count": 35,
     "metadata": {},
     "output_type": "execute_result"
    }
   ],
   "source": [
    "housing_train_tr_features    # for confirmation that it will be not identical as some_data bcz it calted on 505 pionts "
   ]
  },
  {
   "cell_type": "code",
   "execution_count": 36,
   "id": "054bf771",
   "metadata": {},
   "outputs": [
    {
     "data": {
      "text/plain": [
       "[23.145288644380784,\n",
       " 26.591386337593512,\n",
       " 19.92247820985213,\n",
       " 24.862995637298212,\n",
       " 23.597990588192005]"
      ]
     },
     "execution_count": 36,
     "metadata": {},
     "output_type": "execute_result"
    }
   ],
   "source": [
    "list(model.predict(some_data_tr))"
   ]
  },
  {
   "cell_type": "code",
   "execution_count": 37,
   "id": "9379898e",
   "metadata": {},
   "outputs": [
    {
     "data": {
      "text/plain": [
       "254    21.9\n",
       "348    24.5\n",
       "476    16.7\n",
       "321    23.1\n",
       "326    23.0\n",
       "Name: MEDV, dtype: float64"
      ]
     },
     "execution_count": 37,
     "metadata": {},
     "output_type": "execute_result"
    }
   ],
   "source": [
    "housing_train_labels[:5]"
   ]
  },
  {
   "cell_type": "markdown",
   "id": "295e4c74",
   "metadata": {},
   "source": [
    "<h6> predicting quite accurate  </h6>"
   ]
  },
  {
   "cell_type": "code",
   "execution_count": 38,
   "id": "b6c95422",
   "metadata": {},
   "outputs": [
    {
     "data": {
      "text/plain": [
       "array([24.12185552, 27.39875812, 20.54267307, 25.04047489, 23.75193944,\n",
       "       16.72596161, 24.18760255, 24.72256479, 12.49188558, 33.05155491,\n",
       "       12.59640417, 20.49332874,  3.65773814, 29.88705737, 20.33658616,\n",
       "       15.10646563, 20.84063675, 17.34521879, 12.33207289, 20.24900623,\n",
       "       18.69898727, 13.41070453, 17.44369889, 14.86017374, 27.21171297,\n",
       "       29.0587976 , 12.11391088, 23.54298677, 15.19587692, 32.42044819,\n",
       "       13.33427019, 18.78068308, 13.41663894, 20.23183702, 15.6274615 ,\n",
       "       24.61380408, 23.98948698, 40.77192894, 33.56138058, 20.28703302,\n",
       "       24.82042138, 33.87505253, 34.190192  ,  7.01059235, 16.60236412,\n",
       "        5.72156796, 24.76008956, 29.09520668, 24.24016307, -3.73706649,\n",
       "       26.67494598, 24.64156705, 25.83355132, 31.02887234, 14.21071496,\n",
       "       34.09714667, 20.45877055, 27.72331219, 30.39881554, 18.41950752,\n",
       "       19.9733661 , 18.95067934, 28.74871059, 23.06242323, 11.49092359,\n",
       "       32.62609893, 38.03474084, 13.77420349, 27.97546239, 34.41727389,\n",
       "       27.40419063, 35.96305266, 23.55508771, 13.1887669 , 23.84102658,\n",
       "       25.62829817, 30.34712247, 12.41090294, 18.59696692, 19.63532374,\n",
       "       25.01694139, 12.65677201, 20.86502747, 17.87934142, 25.07779426,\n",
       "       19.87176669, 30.46172059, 25.19514009, 32.43762145,  1.24779506,\n",
       "       29.01246335, 25.49828927, 31.39584553, 20.71471008, 20.76501083,\n",
       "       28.88795641, 38.22938361, 21.12615109, 28.87829125, 16.8155307 ,\n",
       "       17.79008953, 39.02259835, 23.83720238, 36.90583736, 18.61100533,\n",
       "       15.76623642, 20.60789492, 25.47878731, 30.12479754, 16.54010025,\n",
       "       19.13294501,  9.13524233, 17.39348028, 22.02387718, 11.40975421,\n",
       "       19.89711406, 13.55852256, 32.96073247, 26.17815595, 15.75905803,\n",
       "       24.43751428,  8.30135381,  9.5908255 , 22.12710948, 25.53395466,\n",
       "        8.26126173, 18.41928129, 24.54083656, 16.07266526, 23.05484385,\n",
       "       25.09864323,  8.52001779, 20.46570895,  8.62134725, 37.67116419,\n",
       "       19.91820586, 27.35715322, 26.02213032, 22.02885662, 42.13199633,\n",
       "       17.17030044, 19.3132676 , 28.86185858, 20.65511907, 30.60352351,\n",
       "       16.6299963 , 21.35766069, 19.30863212, 20.84483255,  3.25891181,\n",
       "       21.4135164 , 17.39125756, 36.68119853, 18.31723197, 27.59124051,\n",
       "       16.04027416, 17.59660317, 25.29465299, 24.89949617, 17.47606068,\n",
       "       22.73609212, 24.65032247, 27.9730597 , 21.98336493, 41.13506761,\n",
       "       14.31133432, 29.46304456, 33.88577726, 24.07900029, 28.34822097,\n",
       "       22.64200532, 25.59094416, 38.57468668, 25.26433108, 21.5995785 ,\n",
       "       25.94973187, 15.87602617, 22.50445181,  8.34474411, 19.0939478 ,\n",
       "       37.95635076, 13.31017292, 21.4821537 , 31.65415817,  9.93418651,\n",
       "       32.85785726, 17.04030128, 33.95439884, 27.2125881 , 28.47636452,\n",
       "       24.2597216 , 33.38429649, 20.51073334, 25.17804882, 15.34611485,\n",
       "       18.32051615, 23.67130398, 31.17339783, 35.35525306, 29.12533689,\n",
       "       21.36414561, 43.2635614 , 24.03894617, 19.24661137, 30.71461814,\n",
       "       18.85569095,  3.48914379, 26.80302564, 21.97348911, 14.92961842,\n",
       "       27.9658571 , 11.30504166, 27.08094425, 41.13188511, 24.22458717,\n",
       "       36.1592596 , 14.82305882, 22.29247435, 14.88881927, 11.37466357,\n",
       "       25.91853229, 19.84383652, 23.53322664, 19.18180012, 20.91290344,\n",
       "       20.47707928, 14.3509921 , 23.24635278, 18.39137149, 21.07582883,\n",
       "       22.61368626, 27.04912154, 30.22609303, 23.17293721, 29.15251176,\n",
       "       34.54375004, 23.89608607,  9.91645306, 14.22466916, 19.32780024,\n",
       "       18.39629142, 13.77803358, 31.78960165, 18.39546103, 22.03453826,\n",
       "       20.51767064, 27.22794787, 24.05087163, 25.22208511, 31.93486085,\n",
       "       13.0316882 , 23.54584264, 22.79843956, 21.1956798 , 23.32870305,\n",
       "        9.43820282, 42.80273233, 43.38808799, 20.38175507, 13.66239698,\n",
       "       16.63444475, 25.49126302, 30.90931185,  6.35369461, 35.90541109,\n",
       "        8.04406924, 24.60196251, 23.74958629, 28.73029709, 20.81027665,\n",
       "       26.94644272, 28.1952948 , 18.93532316, 17.80483472, 22.51665425,\n",
       "       36.63693733, 12.48866929, 16.0627612 , 21.54714613, 34.81102107,\n",
       "       20.85409049, 27.30934035, 19.61097301, 35.29392944, 33.09986924,\n",
       "       25.17041448, 21.20796437, 16.40874815, 20.53355418, 37.3609665 ,\n",
       "       19.73528405, 18.76713845, 14.29744534, 11.22728716, 18.88263785,\n",
       "       22.27167897, 12.09883199, 29.96292079, 15.83151985, 45.00134105,\n",
       "       21.01779186, 22.52212947, 35.23843323, 30.97833265, 23.0549571 ,\n",
       "       10.31872039,  5.72105191, 20.11518082, 17.18106047, 22.8068063 ,\n",
       "       16.09550024, 30.42122312, 17.58429313, 26.13380996, 26.4444917 ,\n",
       "       20.84687703, 28.17482028, 32.49727603, 39.44504537, 22.36325776,\n",
       "       16.94543268, 21.26391967, 22.66280665, 21.11150982, 27.24554151,\n",
       "       41.63312803, 23.26212892, 17.44099708, 27.27164734, 15.59454347,\n",
       "       32.80697626, 13.39253432, 17.02204719, 26.00696215, 28.49633835,\n",
       "       13.96540434, 20.94742378, 13.72242902, 19.1562329 , 20.23973912,\n",
       "       16.90107942, 14.13471232, 12.93310975, 24.33999402, 28.66696203,\n",
       "       16.0133468 , 19.53616033, 18.7168083 , 18.20600869, 18.57547088,\n",
       "       23.10270519, 18.21733237, 29.24180883, 24.17194136, 25.45950995,\n",
       "       23.18211361, 23.3699181 , 29.56675644, 20.25822202, 23.05657561,\n",
       "       22.95750166, 19.2443712 , 13.78459838, 26.98681407, 30.80218931,\n",
       "       35.85569881, 26.64528126, 18.48682958, 24.81335593, 18.68442982,\n",
       "       20.48756641, 31.3528761 , 20.73389135, 27.04587368, 16.68234477,\n",
       "       17.89038275, 22.44499429,  3.9729094 , 22.69311929, 15.8559657 ,\n",
       "       36.09074616, 31.02543539, 16.05975036, 17.16713484, 11.73506247,\n",
       "       24.94355647, 34.77385684, 29.86694708, 35.28095186, 19.75234327,\n",
       "       25.98734845,  6.59111144,  8.37068465, 14.25114617, 17.62792544,\n",
       "       25.74656144, 35.34732412, 10.5795738 , 11.30415139, 20.57398644,\n",
       "       12.47083096, 35.14368274, 15.27293173, 27.21543235])"
      ]
     },
     "execution_count": 38,
     "metadata": {},
     "output_type": "execute_result"
    }
   ],
   "source": [
    "# getting prediction for all the training feature\n",
    "housing_prediction = model.predict(housing_train_tr_features)\n",
    "housing_prediction"
   ]
  },
  {
   "cell_type": "code",
   "execution_count": 39,
   "id": "a615987f",
   "metadata": {},
   "outputs": [
    {
     "data": {
      "text/plain": [
       "(404,)"
      ]
     },
     "execution_count": 39,
     "metadata": {},
     "output_type": "execute_result"
    }
   ],
   "source": [
    "housing_prediction.shape"
   ]
  },
  {
   "cell_type": "code",
   "execution_count": 40,
   "id": "80e5f180",
   "metadata": {},
   "outputs": [
    {
     "data": {
      "text/plain": [
       "array([[24.12185552],\n",
       "       [27.39875812],\n",
       "       [20.54267307],\n",
       "       [25.04047489],\n",
       "       [23.75193944],\n",
       "       [16.72596161],\n",
       "       [24.18760255],\n",
       "       [24.72256479],\n",
       "       [12.49188558],\n",
       "       [33.05155491],\n",
       "       [12.59640417],\n",
       "       [20.49332874],\n",
       "       [ 3.65773814],\n",
       "       [29.88705737],\n",
       "       [20.33658616],\n",
       "       [15.10646563],\n",
       "       [20.84063675],\n",
       "       [17.34521879],\n",
       "       [12.33207289],\n",
       "       [20.24900623],\n",
       "       [18.69898727],\n",
       "       [13.41070453],\n",
       "       [17.44369889],\n",
       "       [14.86017374],\n",
       "       [27.21171297],\n",
       "       [29.0587976 ],\n",
       "       [12.11391088],\n",
       "       [23.54298677],\n",
       "       [15.19587692],\n",
       "       [32.42044819],\n",
       "       [13.33427019],\n",
       "       [18.78068308],\n",
       "       [13.41663894],\n",
       "       [20.23183702],\n",
       "       [15.6274615 ],\n",
       "       [24.61380408],\n",
       "       [23.98948698],\n",
       "       [40.77192894],\n",
       "       [33.56138058],\n",
       "       [20.28703302],\n",
       "       [24.82042138],\n",
       "       [33.87505253],\n",
       "       [34.190192  ],\n",
       "       [ 7.01059235],\n",
       "       [16.60236412],\n",
       "       [ 5.72156796],\n",
       "       [24.76008956],\n",
       "       [29.09520668],\n",
       "       [24.24016307],\n",
       "       [-3.73706649],\n",
       "       [26.67494598],\n",
       "       [24.64156705],\n",
       "       [25.83355132],\n",
       "       [31.02887234],\n",
       "       [14.21071496],\n",
       "       [34.09714667],\n",
       "       [20.45877055],\n",
       "       [27.72331219],\n",
       "       [30.39881554],\n",
       "       [18.41950752],\n",
       "       [19.9733661 ],\n",
       "       [18.95067934],\n",
       "       [28.74871059],\n",
       "       [23.06242323],\n",
       "       [11.49092359],\n",
       "       [32.62609893],\n",
       "       [38.03474084],\n",
       "       [13.77420349],\n",
       "       [27.97546239],\n",
       "       [34.41727389],\n",
       "       [27.40419063],\n",
       "       [35.96305266],\n",
       "       [23.55508771],\n",
       "       [13.1887669 ],\n",
       "       [23.84102658],\n",
       "       [25.62829817],\n",
       "       [30.34712247],\n",
       "       [12.41090294],\n",
       "       [18.59696692],\n",
       "       [19.63532374],\n",
       "       [25.01694139],\n",
       "       [12.65677201],\n",
       "       [20.86502747],\n",
       "       [17.87934142],\n",
       "       [25.07779426],\n",
       "       [19.87176669],\n",
       "       [30.46172059],\n",
       "       [25.19514009],\n",
       "       [32.43762145],\n",
       "       [ 1.24779506],\n",
       "       [29.01246335],\n",
       "       [25.49828927],\n",
       "       [31.39584553],\n",
       "       [20.71471008],\n",
       "       [20.76501083],\n",
       "       [28.88795641],\n",
       "       [38.22938361],\n",
       "       [21.12615109],\n",
       "       [28.87829125],\n",
       "       [16.8155307 ],\n",
       "       [17.79008953],\n",
       "       [39.02259835],\n",
       "       [23.83720238],\n",
       "       [36.90583736],\n",
       "       [18.61100533],\n",
       "       [15.76623642],\n",
       "       [20.60789492],\n",
       "       [25.47878731],\n",
       "       [30.12479754],\n",
       "       [16.54010025],\n",
       "       [19.13294501],\n",
       "       [ 9.13524233],\n",
       "       [17.39348028],\n",
       "       [22.02387718],\n",
       "       [11.40975421],\n",
       "       [19.89711406],\n",
       "       [13.55852256],\n",
       "       [32.96073247],\n",
       "       [26.17815595],\n",
       "       [15.75905803],\n",
       "       [24.43751428],\n",
       "       [ 8.30135381],\n",
       "       [ 9.5908255 ],\n",
       "       [22.12710948],\n",
       "       [25.53395466],\n",
       "       [ 8.26126173],\n",
       "       [18.41928129],\n",
       "       [24.54083656],\n",
       "       [16.07266526],\n",
       "       [23.05484385],\n",
       "       [25.09864323],\n",
       "       [ 8.52001779],\n",
       "       [20.46570895],\n",
       "       [ 8.62134725],\n",
       "       [37.67116419],\n",
       "       [19.91820586],\n",
       "       [27.35715322],\n",
       "       [26.02213032],\n",
       "       [22.02885662],\n",
       "       [42.13199633],\n",
       "       [17.17030044],\n",
       "       [19.3132676 ],\n",
       "       [28.86185858],\n",
       "       [20.65511907],\n",
       "       [30.60352351],\n",
       "       [16.6299963 ],\n",
       "       [21.35766069],\n",
       "       [19.30863212],\n",
       "       [20.84483255],\n",
       "       [ 3.25891181],\n",
       "       [21.4135164 ],\n",
       "       [17.39125756],\n",
       "       [36.68119853],\n",
       "       [18.31723197],\n",
       "       [27.59124051],\n",
       "       [16.04027416],\n",
       "       [17.59660317],\n",
       "       [25.29465299],\n",
       "       [24.89949617],\n",
       "       [17.47606068],\n",
       "       [22.73609212],\n",
       "       [24.65032247],\n",
       "       [27.9730597 ],\n",
       "       [21.98336493],\n",
       "       [41.13506761],\n",
       "       [14.31133432],\n",
       "       [29.46304456],\n",
       "       [33.88577726],\n",
       "       [24.07900029],\n",
       "       [28.34822097],\n",
       "       [22.64200532],\n",
       "       [25.59094416],\n",
       "       [38.57468668],\n",
       "       [25.26433108],\n",
       "       [21.5995785 ],\n",
       "       [25.94973187],\n",
       "       [15.87602617],\n",
       "       [22.50445181],\n",
       "       [ 8.34474411],\n",
       "       [19.0939478 ],\n",
       "       [37.95635076],\n",
       "       [13.31017292],\n",
       "       [21.4821537 ],\n",
       "       [31.65415817],\n",
       "       [ 9.93418651],\n",
       "       [32.85785726],\n",
       "       [17.04030128],\n",
       "       [33.95439884],\n",
       "       [27.2125881 ],\n",
       "       [28.47636452],\n",
       "       [24.2597216 ],\n",
       "       [33.38429649],\n",
       "       [20.51073334],\n",
       "       [25.17804882],\n",
       "       [15.34611485],\n",
       "       [18.32051615],\n",
       "       [23.67130398],\n",
       "       [31.17339783],\n",
       "       [35.35525306],\n",
       "       [29.12533689],\n",
       "       [21.36414561],\n",
       "       [43.2635614 ],\n",
       "       [24.03894617],\n",
       "       [19.24661137],\n",
       "       [30.71461814],\n",
       "       [18.85569095],\n",
       "       [ 3.48914379],\n",
       "       [26.80302564],\n",
       "       [21.97348911],\n",
       "       [14.92961842],\n",
       "       [27.9658571 ],\n",
       "       [11.30504166],\n",
       "       [27.08094425],\n",
       "       [41.13188511],\n",
       "       [24.22458717],\n",
       "       [36.1592596 ],\n",
       "       [14.82305882],\n",
       "       [22.29247435],\n",
       "       [14.88881927],\n",
       "       [11.37466357],\n",
       "       [25.91853229],\n",
       "       [19.84383652],\n",
       "       [23.53322664],\n",
       "       [19.18180012],\n",
       "       [20.91290344],\n",
       "       [20.47707928],\n",
       "       [14.3509921 ],\n",
       "       [23.24635278],\n",
       "       [18.39137149],\n",
       "       [21.07582883],\n",
       "       [22.61368626],\n",
       "       [27.04912154],\n",
       "       [30.22609303],\n",
       "       [23.17293721],\n",
       "       [29.15251176],\n",
       "       [34.54375004],\n",
       "       [23.89608607],\n",
       "       [ 9.91645306],\n",
       "       [14.22466916],\n",
       "       [19.32780024],\n",
       "       [18.39629142],\n",
       "       [13.77803358],\n",
       "       [31.78960165],\n",
       "       [18.39546103],\n",
       "       [22.03453826],\n",
       "       [20.51767064],\n",
       "       [27.22794787],\n",
       "       [24.05087163],\n",
       "       [25.22208511],\n",
       "       [31.93486085],\n",
       "       [13.0316882 ],\n",
       "       [23.54584264],\n",
       "       [22.79843956],\n",
       "       [21.1956798 ],\n",
       "       [23.32870305],\n",
       "       [ 9.43820282],\n",
       "       [42.80273233],\n",
       "       [43.38808799],\n",
       "       [20.38175507],\n",
       "       [13.66239698],\n",
       "       [16.63444475],\n",
       "       [25.49126302],\n",
       "       [30.90931185],\n",
       "       [ 6.35369461],\n",
       "       [35.90541109],\n",
       "       [ 8.04406924],\n",
       "       [24.60196251],\n",
       "       [23.74958629],\n",
       "       [28.73029709],\n",
       "       [20.81027665],\n",
       "       [26.94644272],\n",
       "       [28.1952948 ],\n",
       "       [18.93532316],\n",
       "       [17.80483472],\n",
       "       [22.51665425],\n",
       "       [36.63693733],\n",
       "       [12.48866929],\n",
       "       [16.0627612 ],\n",
       "       [21.54714613],\n",
       "       [34.81102107],\n",
       "       [20.85409049],\n",
       "       [27.30934035],\n",
       "       [19.61097301],\n",
       "       [35.29392944],\n",
       "       [33.09986924],\n",
       "       [25.17041448],\n",
       "       [21.20796437],\n",
       "       [16.40874815],\n",
       "       [20.53355418],\n",
       "       [37.3609665 ],\n",
       "       [19.73528405],\n",
       "       [18.76713845],\n",
       "       [14.29744534],\n",
       "       [11.22728716],\n",
       "       [18.88263785],\n",
       "       [22.27167897],\n",
       "       [12.09883199],\n",
       "       [29.96292079],\n",
       "       [15.83151985],\n",
       "       [45.00134105],\n",
       "       [21.01779186],\n",
       "       [22.52212947],\n",
       "       [35.23843323],\n",
       "       [30.97833265],\n",
       "       [23.0549571 ],\n",
       "       [10.31872039],\n",
       "       [ 5.72105191],\n",
       "       [20.11518082],\n",
       "       [17.18106047],\n",
       "       [22.8068063 ],\n",
       "       [16.09550024],\n",
       "       [30.42122312],\n",
       "       [17.58429313],\n",
       "       [26.13380996],\n",
       "       [26.4444917 ],\n",
       "       [20.84687703],\n",
       "       [28.17482028],\n",
       "       [32.49727603],\n",
       "       [39.44504537],\n",
       "       [22.36325776],\n",
       "       [16.94543268],\n",
       "       [21.26391967],\n",
       "       [22.66280665],\n",
       "       [21.11150982],\n",
       "       [27.24554151],\n",
       "       [41.63312803],\n",
       "       [23.26212892],\n",
       "       [17.44099708],\n",
       "       [27.27164734],\n",
       "       [15.59454347],\n",
       "       [32.80697626],\n",
       "       [13.39253432],\n",
       "       [17.02204719],\n",
       "       [26.00696215],\n",
       "       [28.49633835],\n",
       "       [13.96540434],\n",
       "       [20.94742378],\n",
       "       [13.72242902],\n",
       "       [19.1562329 ],\n",
       "       [20.23973912],\n",
       "       [16.90107942],\n",
       "       [14.13471232],\n",
       "       [12.93310975],\n",
       "       [24.33999402],\n",
       "       [28.66696203],\n",
       "       [16.0133468 ],\n",
       "       [19.53616033],\n",
       "       [18.7168083 ],\n",
       "       [18.20600869],\n",
       "       [18.57547088],\n",
       "       [23.10270519],\n",
       "       [18.21733237],\n",
       "       [29.24180883],\n",
       "       [24.17194136],\n",
       "       [25.45950995],\n",
       "       [23.18211361],\n",
       "       [23.3699181 ],\n",
       "       [29.56675644],\n",
       "       [20.25822202],\n",
       "       [23.05657561],\n",
       "       [22.95750166],\n",
       "       [19.2443712 ],\n",
       "       [13.78459838],\n",
       "       [26.98681407],\n",
       "       [30.80218931],\n",
       "       [35.85569881],\n",
       "       [26.64528126],\n",
       "       [18.48682958],\n",
       "       [24.81335593],\n",
       "       [18.68442982],\n",
       "       [20.48756641],\n",
       "       [31.3528761 ],\n",
       "       [20.73389135],\n",
       "       [27.04587368],\n",
       "       [16.68234477],\n",
       "       [17.89038275],\n",
       "       [22.44499429],\n",
       "       [ 3.9729094 ],\n",
       "       [22.69311929],\n",
       "       [15.8559657 ],\n",
       "       [36.09074616],\n",
       "       [31.02543539],\n",
       "       [16.05975036],\n",
       "       [17.16713484],\n",
       "       [11.73506247],\n",
       "       [24.94355647],\n",
       "       [34.77385684],\n",
       "       [29.86694708],\n",
       "       [35.28095186],\n",
       "       [19.75234327],\n",
       "       [25.98734845],\n",
       "       [ 6.59111144],\n",
       "       [ 8.37068465],\n",
       "       [14.25114617],\n",
       "       [17.62792544],\n",
       "       [25.74656144],\n",
       "       [35.34732412],\n",
       "       [10.5795738 ],\n",
       "       [11.30415139],\n",
       "       [20.57398644],\n",
       "       [12.47083096],\n",
       "       [35.14368274],\n",
       "       [15.27293173],\n",
       "       [27.21543235]])"
      ]
     },
     "execution_count": 40,
     "metadata": {},
     "output_type": "execute_result"
    }
   ],
   "source": [
    "x = housing_prediction.reshape(-1,1)\n",
    "x"
   ]
  },
  {
   "cell_type": "code",
   "execution_count": 41,
   "id": "77f68bd2",
   "metadata": {},
   "outputs": [
    {
     "data": {
      "text/plain": [
       "(404, 1)"
      ]
     },
     "execution_count": 41,
     "metadata": {},
     "output_type": "execute_result"
    }
   ],
   "source": [
    "x.shape"
   ]
  },
  {
   "cell_type": "markdown",
   "id": "288d3389",
   "metadata": {},
   "source": [
    "# Determining Accuracy"
   ]
  },
  {
   "cell_type": "code",
   "execution_count": 44,
   "id": "e97c87ed",
   "metadata": {},
   "outputs": [
    {
     "data": {
      "text/plain": [
       "23.45897252173812"
      ]
     },
     "execution_count": 44,
     "metadata": {},
     "output_type": "execute_result"
    }
   ],
   "source": [
    "lin_mse= mean_squared_error(housing_train_labels, housing_prediction)\n",
    "lin_mse"
   ]
  },
  {
   "cell_type": "code",
   "execution_count": 47,
   "id": "f0e0922d",
   "metadata": {},
   "outputs": [
    {
     "data": {
      "text/plain": [
       "4.843446347564729"
      ]
     },
     "execution_count": 47,
     "metadata": {},
     "output_type": "execute_result"
    }
   ],
   "source": [
    "lin_rmse= np.sqrt(lin_mse)\n",
    "lin_rmse"
   ]
  },
  {
   "cell_type": "markdown",
   "id": "9a650c6d",
   "metadata": {},
   "source": [
    "<h4>RMSE for LinearRegressor Model=  4.843446347564729</h4>"
   ]
  },
  {
   "cell_type": "code",
   "execution_count": 49,
   "id": "7da2ce1c",
   "metadata": {},
   "outputs": [
    {
     "data": {
      "text/html": [
       "<style>#sk-container-id-2 {color: black;background-color: white;}#sk-container-id-2 pre{padding: 0;}#sk-container-id-2 div.sk-toggleable {background-color: white;}#sk-container-id-2 label.sk-toggleable__label {cursor: pointer;display: block;width: 100%;margin-bottom: 0;padding: 0.3em;box-sizing: border-box;text-align: center;}#sk-container-id-2 label.sk-toggleable__label-arrow:before {content: \"▸\";float: left;margin-right: 0.25em;color: #696969;}#sk-container-id-2 label.sk-toggleable__label-arrow:hover:before {color: black;}#sk-container-id-2 div.sk-estimator:hover label.sk-toggleable__label-arrow:before {color: black;}#sk-container-id-2 div.sk-toggleable__content {max-height: 0;max-width: 0;overflow: hidden;text-align: left;background-color: #f0f8ff;}#sk-container-id-2 div.sk-toggleable__content pre {margin: 0.2em;color: black;border-radius: 0.25em;background-color: #f0f8ff;}#sk-container-id-2 input.sk-toggleable__control:checked~div.sk-toggleable__content {max-height: 200px;max-width: 100%;overflow: auto;}#sk-container-id-2 input.sk-toggleable__control:checked~label.sk-toggleable__label-arrow:before {content: \"▾\";}#sk-container-id-2 div.sk-estimator input.sk-toggleable__control:checked~label.sk-toggleable__label {background-color: #d4ebff;}#sk-container-id-2 div.sk-label input.sk-toggleable__control:checked~label.sk-toggleable__label {background-color: #d4ebff;}#sk-container-id-2 input.sk-hidden--visually {border: 0;clip: rect(1px 1px 1px 1px);clip: rect(1px, 1px, 1px, 1px);height: 1px;margin: -1px;overflow: hidden;padding: 0;position: absolute;width: 1px;}#sk-container-id-2 div.sk-estimator {font-family: monospace;background-color: #f0f8ff;border: 1px dotted black;border-radius: 0.25em;box-sizing: border-box;margin-bottom: 0.5em;}#sk-container-id-2 div.sk-estimator:hover {background-color: #d4ebff;}#sk-container-id-2 div.sk-parallel-item::after {content: \"\";width: 100%;border-bottom: 1px solid gray;flex-grow: 1;}#sk-container-id-2 div.sk-label:hover label.sk-toggleable__label {background-color: #d4ebff;}#sk-container-id-2 div.sk-serial::before {content: \"\";position: absolute;border-left: 1px solid gray;box-sizing: border-box;top: 0;bottom: 0;left: 50%;z-index: 0;}#sk-container-id-2 div.sk-serial {display: flex;flex-direction: column;align-items: center;background-color: white;padding-right: 0.2em;padding-left: 0.2em;position: relative;}#sk-container-id-2 div.sk-item {position: relative;z-index: 1;}#sk-container-id-2 div.sk-parallel {display: flex;align-items: stretch;justify-content: center;background-color: white;position: relative;}#sk-container-id-2 div.sk-item::before, #sk-container-id-2 div.sk-parallel-item::before {content: \"\";position: absolute;border-left: 1px solid gray;box-sizing: border-box;top: 0;bottom: 0;left: 50%;z-index: -1;}#sk-container-id-2 div.sk-parallel-item {display: flex;flex-direction: column;z-index: 1;position: relative;background-color: white;}#sk-container-id-2 div.sk-parallel-item:first-child::after {align-self: flex-end;width: 50%;}#sk-container-id-2 div.sk-parallel-item:last-child::after {align-self: flex-start;width: 50%;}#sk-container-id-2 div.sk-parallel-item:only-child::after {width: 0;}#sk-container-id-2 div.sk-dashed-wrapped {border: 1px dashed gray;margin: 0 0.4em 0.5em 0.4em;box-sizing: border-box;padding-bottom: 0.4em;background-color: white;}#sk-container-id-2 div.sk-label label {font-family: monospace;font-weight: bold;display: inline-block;line-height: 1.2em;}#sk-container-id-2 div.sk-label-container {text-align: center;}#sk-container-id-2 div.sk-container {/* jupyter's `normalize.less` sets `[hidden] { display: none; }` but bootstrap.min.css set `[hidden] { display: none !important; }` so we also need the `!important` here to be able to override the default hidden behavior on the sphinx rendered scikit-learn.org. See: https://github.com/scikit-learn/scikit-learn/issues/21755 */display: inline-block !important;position: relative;}#sk-container-id-2 div.sk-text-repr-fallback {display: none;}</style><div id=\"sk-container-id-2\" class=\"sk-top-container\"><div class=\"sk-text-repr-fallback\"><pre>DecisionTreeRegressor()</pre><b>In a Jupyter environment, please rerun this cell to show the HTML representation or trust the notebook. <br />On GitHub, the HTML representation is unable to render, please try loading this page with nbviewer.org.</b></div><div class=\"sk-container\" hidden><div class=\"sk-item\"><div class=\"sk-estimator sk-toggleable\"><input class=\"sk-toggleable__control sk-hidden--visually\" id=\"sk-estimator-id-2\" type=\"checkbox\" checked><label for=\"sk-estimator-id-2\" class=\"sk-toggleable__label sk-toggleable__label-arrow\">DecisionTreeRegressor</label><div class=\"sk-toggleable__content\"><pre>DecisionTreeRegressor()</pre></div></div></div></div></div>"
      ],
      "text/plain": [
       "DecisionTreeRegressor()"
      ]
     },
     "execution_count": 49,
     "metadata": {},
     "output_type": "execute_result"
    }
   ],
   "source": [
    "# trying another model\n",
    "model1= DecisionTreeRegressor()\n",
    "model1.fit(housing_train_tr_features, housing_train_labels)"
   ]
  },
  {
   "cell_type": "code",
   "execution_count": 50,
   "id": "6ca44000",
   "metadata": {},
   "outputs": [
    {
     "data": {
      "text/plain": [
       "array([21.9, 24.5, 16.7, 23.1, 23. , 17.2, 24.4, 27.5,  9.5, 31.6, 16.3,\n",
       "       18.3,  8.1, 34.9, 24.5, 13.4, 18.7, 19.1,  5.6, 20.5, 19.6, 17.2,\n",
       "       17.4, 27.5, 23.9, 25. , 12.7, 21.2, 14.8, 29. , 14. , 16.6, 11.3,\n",
       "       13.3, 21.9, 29.6, 23.4, 50. , 31.7, 20.4, 21.4, 34.9, 37.9, 10.4,\n",
       "       20.1, 13.8, 21.7, 25. , 22.2,  7. , 24.8, 22.8, 23.8, 28.7, 14.3,\n",
       "       41.3, 21.7, 23.9, 32.9, 16.1, 19.5, 19.9, 28.4, 21. , 13.8, 31.6,\n",
       "       50. , 14.5, 26.6, 35.4, 22. , 36.5, 22.4, 10.5, 20.1, 29.8, 24. ,\n",
       "       15.2, 16.1, 18.5, 29.6,  7.5, 19.3, 18.7, 24.8, 27.5, 30.5, 25.3,\n",
       "       29.8, 17.9, 22.9, 30.1, 27.9, 20.4, 21.7, 33.4, 21.9, 19. , 22. ,\n",
       "       19.1, 13.9, 45.4, 20.3, 42.3, 16. , 15.6, 20.5, 22.7, 29.1, 17.8,\n",
       "       15. ,  7.2, 15.1, 20.6, 11.8, 19.1, 13.1, 37.2, 23.3, 15.2, 23.1,\n",
       "        8.5,  8.3, 19.3, 24.1, 14.6, 14.1, 25. , 11.7, 21.2, 22.9, 11.8,\n",
       "       16.8, 11.9, 50. , 17.1, 23.7, 23.9, 22.5, 50. , 14.9, 22.6, 28.6,\n",
       "       18.8, 32.7, 17.6, 21. , 18.5, 19.9,  8.8, 24.5, 17.1, 36. , 14.5,\n",
       "       23.7, 13.4, 17.8, 19.4, 24.7, 19.3, 26.4, 24.6, 26.6, 18.9, 48.8,\n",
       "       13.6, 24.6, 50. , 26.2, 23.7, 21.4, 28.7, 44.8, 24. , 20.7, 25. ,\n",
       "       13.3, 25. ,  8.7, 18.3, 37.6, 13.9, 21.2, 29.9, 23.7, 27.5, 15. ,\n",
       "       26.7, 20.6, 31.2, 20.5, 32. , 23. , 24.2, 16.2, 12.1, 33. , 31.5,\n",
       "       33.4, 22.5, 16.1, 50. , 19.2, 22.2, 29.4, 18.4, 14.4, 22.8, 22. ,\n",
       "       10.9, 23.9, 16.5, 22.1, 46. , 21.4, 33.2, 15.4, 26.6, 14.9, 10.8,\n",
       "       21.6, 19.6, 19.4, 18.9, 18.8, 13.8,  9.6, 22.9, 19.8, 19.6, 17.8,\n",
       "       23.2, 23.5, 17. , 22.8, 34.9, 18.9,  9.7, 13.1, 20.6, 12.6,  8.3,\n",
       "       29. , 17.5, 21.1, 21.4, 22.6, 24.4, 25. , 31.1, 12.8, 20.8, 19.8,\n",
       "       21.8, 19.6, 17.8, 50. , 50. , 19.3, 11. , 13.8, 50. , 25.1, 10.2,\n",
       "       50. , 13.2, 50. , 24.4, 28.7, 16.2, 35.4, 22.8, 20.1, 22.5, 22.6,\n",
       "       32.4, 13.5, 10.2, 20.1, 33.8, 16.8, 22.3, 17.1, 30.1, 36.4, 23.1,\n",
       "       22. ,  8.5, 23.1, 48.3, 27.1, 10.9, 11.5, 12.7, 16.4, 20. , 15.6,\n",
       "       42.8, 15.6, 50. , 21. , 23.2, 46.7, 34.7, 22.7,  6.3,  7.4, 24.3,\n",
       "       23.2, 20.2, 17.3, 28.4, 20. , 20.7, 22. , 24.1, 36.2, 28.2, 43.5,\n",
       "       21.2, 17.5, 19.3, 20.3, 15.3, 22.3, 48.5, 20. , 18.1, 22. , 16.6,\n",
       "       36.1, 18.5, 18.6, 15. , 23.3,  8.4, 20.9, 19.7, 18. , 17.7, 17.5,\n",
       "       18.2, 13.4, 22.6, 26.4, 17.4, 18.2, 20. , 15.4, 20.8, 21.7, 14.2,\n",
       "       24.1, 22.2, 18.5, 22.4, 19.4, 30.8, 20. , 23.1, 17.4, 12.5, 13.3,\n",
       "       25.2, 37. , 50. , 22.6, 18.2, 23.9, 18.4, 13.1, 32.5, 22.9, 50. ,\n",
       "       14.3, 14.5, 21.4,  8.4, 24.7, 20.2, 38.7, 30.7, 18.4, 13. , 12. ,\n",
       "       19.1, 39.8, 24.3, 35.1, 19.4, 24.8, 10.5,  8.8, 15.7, 14.9, 26.5,\n",
       "       33.1,  5. , 23.1, 15.6, 13.4, 43.8, 14.1, 23.3])"
      ]
     },
     "execution_count": 50,
     "metadata": {},
     "output_type": "execute_result"
    }
   ],
   "source": [
    "dtr_predictions= model1.predict(housing_train_tr_features)\n",
    "dtr_predictions"
   ]
  },
  {
   "cell_type": "code",
   "execution_count": 51,
   "id": "46f8572f",
   "metadata": {},
   "outputs": [
    {
     "data": {
      "text/plain": [
       "254    21.9\n",
       "348    24.5\n",
       "476    16.7\n",
       "321    23.1\n",
       "326    23.0\n",
       "       ... \n",
       "155    15.6\n",
       "423    13.4\n",
       "98     43.8\n",
       "455    14.1\n",
       "216    23.3\n",
       "Name: MEDV, Length: 404, dtype: float64"
      ]
     },
     "execution_count": 51,
     "metadata": {},
     "output_type": "execute_result"
    }
   ],
   "source": [
    "housing_train_labels"
   ]
  },
  {
   "cell_type": "code",
   "execution_count": 68,
   "id": "afc7cd52",
   "metadata": {},
   "outputs": [
    {
     "data": {
      "text/plain": [
       "0.0"
      ]
     },
     "execution_count": 68,
     "metadata": {},
     "output_type": "execute_result"
    }
   ],
   "source": [
    "dtr_rmse= np.sqrt(mean_squared_error(housing_train_labels, dtr_predictions))\n",
    "dtr_rmse"
   ]
  },
  {
   "cell_type": "code",
   "execution_count": 52,
   "id": "d893623c",
   "metadata": {},
   "outputs": [],
   "source": [
    "# it's looks like this model has been over fited on data varifing it using CROSS VALIDATION"
   ]
  },
  {
   "cell_type": "markdown",
   "id": "65d53ac6",
   "metadata": {},
   "source": [
    "<h2>Cross Validation</h2>"
   ]
  },
  {
   "cell_type": "code",
   "execution_count": 58,
   "id": "bb07b97e",
   "metadata": {},
   "outputs": [
    {
     "data": {
      "text/plain": [
       "array([-17.39536585, -28.69512195, -28.88634146, -17.4295122 ,\n",
       "       -14.301     , -15.881     , -51.28425   , -16.60775   ,\n",
       "       -11.34925   , -16.454     ])"
      ]
     },
     "execution_count": 58,
     "metadata": {},
     "output_type": "execute_result"
    }
   ],
   "source": [
    "scores = cross_val_score(model1, housing_train_tr_features, housing_train_labels, scoring= \"neg_mean_squared_error\", cv= 10)\n",
    "scores"
   ]
  },
  {
   "cell_type": "code",
   "execution_count": 61,
   "id": "3524bb8f",
   "metadata": {},
   "outputs": [
    {
     "data": {
      "text/plain": [
       "array([4.17077521, 5.3567828 , 5.37460152, 4.17486673, 3.7816663 ,\n",
       "       3.98509724, 7.16130226, 4.07526073, 3.36886479, 4.05635304])"
      ]
     },
     "execution_count": 61,
     "metadata": {},
     "output_type": "execute_result"
    }
   ],
   "source": [
    "dtr_rmse= np.sqrt(-scores)\n",
    "dtr_rmse"
   ]
  },
  {
   "cell_type": "code",
   "execution_count": 63,
   "id": "4b60f032",
   "metadata": {},
   "outputs": [
    {
     "data": {
      "text/plain": [
       "4.550557061066638"
      ]
     },
     "execution_count": 63,
     "metadata": {},
     "output_type": "execute_result"
    }
   ],
   "source": [
    "dtr_rmse.mean()"
   ]
  },
  {
   "cell_type": "markdown",
   "id": "5b121f4d",
   "metadata": {},
   "source": [
    "<h4>Error of DecisionTreeRegressor is 4.550557061066638</h4>"
   ]
  },
  {
   "cell_type": "code",
   "execution_count": 67,
   "id": "a6844c3d",
   "metadata": {},
   "outputs": [
    {
     "data": {
      "text/html": [
       "<style>#sk-container-id-3 {color: black;background-color: white;}#sk-container-id-3 pre{padding: 0;}#sk-container-id-3 div.sk-toggleable {background-color: white;}#sk-container-id-3 label.sk-toggleable__label {cursor: pointer;display: block;width: 100%;margin-bottom: 0;padding: 0.3em;box-sizing: border-box;text-align: center;}#sk-container-id-3 label.sk-toggleable__label-arrow:before {content: \"▸\";float: left;margin-right: 0.25em;color: #696969;}#sk-container-id-3 label.sk-toggleable__label-arrow:hover:before {color: black;}#sk-container-id-3 div.sk-estimator:hover label.sk-toggleable__label-arrow:before {color: black;}#sk-container-id-3 div.sk-toggleable__content {max-height: 0;max-width: 0;overflow: hidden;text-align: left;background-color: #f0f8ff;}#sk-container-id-3 div.sk-toggleable__content pre {margin: 0.2em;color: black;border-radius: 0.25em;background-color: #f0f8ff;}#sk-container-id-3 input.sk-toggleable__control:checked~div.sk-toggleable__content {max-height: 200px;max-width: 100%;overflow: auto;}#sk-container-id-3 input.sk-toggleable__control:checked~label.sk-toggleable__label-arrow:before {content: \"▾\";}#sk-container-id-3 div.sk-estimator input.sk-toggleable__control:checked~label.sk-toggleable__label {background-color: #d4ebff;}#sk-container-id-3 div.sk-label input.sk-toggleable__control:checked~label.sk-toggleable__label {background-color: #d4ebff;}#sk-container-id-3 input.sk-hidden--visually {border: 0;clip: rect(1px 1px 1px 1px);clip: rect(1px, 1px, 1px, 1px);height: 1px;margin: -1px;overflow: hidden;padding: 0;position: absolute;width: 1px;}#sk-container-id-3 div.sk-estimator {font-family: monospace;background-color: #f0f8ff;border: 1px dotted black;border-radius: 0.25em;box-sizing: border-box;margin-bottom: 0.5em;}#sk-container-id-3 div.sk-estimator:hover {background-color: #d4ebff;}#sk-container-id-3 div.sk-parallel-item::after {content: \"\";width: 100%;border-bottom: 1px solid gray;flex-grow: 1;}#sk-container-id-3 div.sk-label:hover label.sk-toggleable__label {background-color: #d4ebff;}#sk-container-id-3 div.sk-serial::before {content: \"\";position: absolute;border-left: 1px solid gray;box-sizing: border-box;top: 0;bottom: 0;left: 50%;z-index: 0;}#sk-container-id-3 div.sk-serial {display: flex;flex-direction: column;align-items: center;background-color: white;padding-right: 0.2em;padding-left: 0.2em;position: relative;}#sk-container-id-3 div.sk-item {position: relative;z-index: 1;}#sk-container-id-3 div.sk-parallel {display: flex;align-items: stretch;justify-content: center;background-color: white;position: relative;}#sk-container-id-3 div.sk-item::before, #sk-container-id-3 div.sk-parallel-item::before {content: \"\";position: absolute;border-left: 1px solid gray;box-sizing: border-box;top: 0;bottom: 0;left: 50%;z-index: -1;}#sk-container-id-3 div.sk-parallel-item {display: flex;flex-direction: column;z-index: 1;position: relative;background-color: white;}#sk-container-id-3 div.sk-parallel-item:first-child::after {align-self: flex-end;width: 50%;}#sk-container-id-3 div.sk-parallel-item:last-child::after {align-self: flex-start;width: 50%;}#sk-container-id-3 div.sk-parallel-item:only-child::after {width: 0;}#sk-container-id-3 div.sk-dashed-wrapped {border: 1px dashed gray;margin: 0 0.4em 0.5em 0.4em;box-sizing: border-box;padding-bottom: 0.4em;background-color: white;}#sk-container-id-3 div.sk-label label {font-family: monospace;font-weight: bold;display: inline-block;line-height: 1.2em;}#sk-container-id-3 div.sk-label-container {text-align: center;}#sk-container-id-3 div.sk-container {/* jupyter's `normalize.less` sets `[hidden] { display: none; }` but bootstrap.min.css set `[hidden] { display: none !important; }` so we also need the `!important` here to be able to override the default hidden behavior on the sphinx rendered scikit-learn.org. See: https://github.com/scikit-learn/scikit-learn/issues/21755 */display: inline-block !important;position: relative;}#sk-container-id-3 div.sk-text-repr-fallback {display: none;}</style><div id=\"sk-container-id-3\" class=\"sk-top-container\"><div class=\"sk-text-repr-fallback\"><pre>RandomForestRegressor()</pre><b>In a Jupyter environment, please rerun this cell to show the HTML representation or trust the notebook. <br />On GitHub, the HTML representation is unable to render, please try loading this page with nbviewer.org.</b></div><div class=\"sk-container\" hidden><div class=\"sk-item\"><div class=\"sk-estimator sk-toggleable\"><input class=\"sk-toggleable__control sk-hidden--visually\" id=\"sk-estimator-id-3\" type=\"checkbox\" checked><label for=\"sk-estimator-id-3\" class=\"sk-toggleable__label sk-toggleable__label-arrow\">RandomForestRegressor</label><div class=\"sk-toggleable__content\"><pre>RandomForestRegressor()</pre></div></div></div></div></div>"
      ],
      "text/plain": [
       "RandomForestRegressor()"
      ]
     },
     "execution_count": 67,
     "metadata": {},
     "output_type": "execute_result"
    }
   ],
   "source": [
    "model2 = RandomForestRegressor()\n",
    "model2.fit(housing_train_tr_features, housing_train_labels)"
   ]
  },
  {
   "cell_type": "code",
   "execution_count": 69,
   "id": "97a20e89",
   "metadata": {},
   "outputs": [
    {
     "data": {
      "text/plain": [
       "array([22.32 , 25.514, 16.316, 23.345, 23.428, 16.749, 24.505, 26.204,\n",
       "       10.391, 31.915, 15.491, 18.593,  9.903, 34.185, 22.662, 13.728,\n",
       "       19.182, 18.343,  6.729, 20.451, 19.   , 16.763, 18.104, 26.706,\n",
       "       24.24 , 24.9  , 13.514, 21.136, 14.906, 27.741, 14.549, 18.429,\n",
       "       11.568, 13.352, 20.748, 27.703, 23.51 , 46.638, 32.936, 20.216,\n",
       "       22.01 , 35.061, 37.062,  9.811, 20.358, 12.54 , 21.516, 26.932,\n",
       "       22.816,  8.37 , 24.622, 23.22 , 23.645, 30.815, 14.939, 37.614,\n",
       "       21.379, 25.295, 34.023, 17.396, 20.062, 20.155, 27.461, 20.938,\n",
       "       14.105, 31.806, 49.806, 14.712, 26.387, 35.165, 22.895, 35.734,\n",
       "       22.999, 10.145, 20.683, 27.364, 25.395, 14.625, 16.218, 18.709,\n",
       "       31.346,  8.419, 19.224, 18.801, 26.387, 22.876, 30.235, 24.959,\n",
       "       29.502, 16.328, 23.095, 30.702, 27.818, 20.058, 21.744, 34.111,\n",
       "       28.548, 19.677, 23.136, 17.327, 12.714, 46.398, 20.41 , 43.524,\n",
       "       17.295, 15.89 , 19.424, 21.498, 27.29 , 16.71 , 17.314,  7.813,\n",
       "       14.692, 20.769, 11.369, 18.842, 13.867, 35.92 , 24.275, 15.631,\n",
       "       22.702,  8.454,  8.666, 19.525, 24.141, 14.2  , 16.188, 24.036,\n",
       "       12.113, 21.292, 23.062, 12.437, 18.057, 11.915, 46.807, 17.743,\n",
       "       24.2  , 23.146, 21.752, 49.249, 14.731, 22.058, 26.974, 18.657,\n",
       "       32.786, 17.778, 21.34 , 19.342, 20.934,  8.839, 24.09 , 15.176,\n",
       "       36.093, 16.102, 25.527, 14.036, 18.254, 19.36 , 24.706, 19.014,\n",
       "       25.698, 24.739, 28.226, 19.55 , 47.746, 14.566, 24.403, 46.155,\n",
       "       25.736, 24.086, 20.316, 27.618, 44.412, 22.491, 22.373, 23.424,\n",
       "       14.14 , 25.231,  8.828, 19.003, 40.044, 14.227, 20.954, 29.572,\n",
       "       21.66 , 26.606, 18.202, 27.973, 21.011, 30.931, 21.021, 30.491,\n",
       "       21.613, 24.06 , 16.075, 11.959, 32.52 , 30.672, 34.375, 24.068,\n",
       "       17.836, 49.488, 19.578, 22.064, 28.406, 17.012, 14.25 , 23.095,\n",
       "       22.055, 12.694, 27.087, 17.86 , 23.035, 45.666, 21.987, 33.322,\n",
       "       15.081, 27.482, 14.38 , 10.413, 21.833, 20.106, 19.498, 19.044,\n",
       "       18.97 , 14.204, 10.706, 21.777, 19.699, 20.157, 18.858, 23.192,\n",
       "       24.92 , 16.71 , 25.157, 34.612, 19.912,  9.821, 13.804, 20.698,\n",
       "       13.399,  9.395, 31.403, 18.008, 20.951, 21.025, 23.072, 23.54 ,\n",
       "       24.323, 30.295, 12.217, 21.01 , 20.175, 21.277, 19.902, 16.165,\n",
       "       49.028, 48.265, 19.566, 11.647, 14.213, 44.956, 25.311,  9.676,\n",
       "       45.581, 14.097, 46.728, 23.676, 26.688, 17.465, 30.891, 22.368,\n",
       "       19.31 , 21.583, 22.429, 32.356, 14.161, 12.833, 20.043, 33.574,\n",
       "       17.382, 22.521, 17.743, 30.485, 36.018, 23.698, 21.245, 10.123,\n",
       "       22.997, 46.596, 23.788, 11.219, 11.937, 13.406, 15.891, 20.391,\n",
       "       14.654, 41.068, 15.202, 48.663, 21.211, 21.549, 45.838, 34.906,\n",
       "       21.951,  7.891,  8.345, 23.253, 20.183, 20.794, 17.134, 27.247,\n",
       "       19.863, 21.009, 23.857, 24.686, 35.371, 28.758, 43.224, 21.233,\n",
       "       17.603, 19.854, 20.865, 17.955, 21.593, 48.391, 20.321, 17.548,\n",
       "       23.978, 16.782, 35.005, 18.924, 19.46 , 20.825, 24.031, 10.04 ,\n",
       "       20.935, 18.871, 17.854, 18.089, 18.738, 18.874, 12.801, 23.158,\n",
       "       25.291, 16.804, 18.93 , 18.606, 14.647, 20.567, 21.068, 14.447,\n",
       "       24.026, 21.735, 19.569, 22.195, 20.152, 29.997, 20.253, 21.586,\n",
       "       17.982, 13.616, 14.151, 25.447, 34.808, 46.833, 21.966, 18.518,\n",
       "       23.705, 18.694, 13.334, 30.032, 23.32 , 44.421, 14.329, 14.53 ,\n",
       "       20.349,  8.437, 23.55 , 19.332, 41.142, 28.804, 18.057, 13.629,\n",
       "       12.878, 19.789, 39.945, 24.523, 33.813, 18.851, 24.359,  9.807,\n",
       "        8.892, 16.11 , 14.819, 26.192, 32.73 ,  7.037, 20.671, 15.899,\n",
       "       13.149, 44.334, 14.388, 22.633])"
      ]
     },
     "execution_count": 69,
     "metadata": {},
     "output_type": "execute_result"
    }
   ],
   "source": [
    "rfr_predictiions= model2.predict(housing_train_tr_features)\n",
    "rfr_predictiions"
   ]
  },
  {
   "cell_type": "code",
   "execution_count": 71,
   "id": "643a61dd",
   "metadata": {},
   "outputs": [
    {
     "data": {
      "text/plain": [
       "1.2549663460439755"
      ]
     },
     "execution_count": 71,
     "metadata": {},
     "output_type": "execute_result"
    }
   ],
   "source": [
    "rfr_rmse= np.sqrt(mean_squared_error(housing_train_labels, rfr_predictiions))\n",
    "rfr_rmse"
   ]
  },
  {
   "cell_type": "markdown",
   "id": "fd94551c",
   "metadata": {},
   "source": [
    "*<H3>RandomForestregressor performin way better then linearRegresssor, DesionTreeRegressor with erorr only 1.2549663460439755\n",
    "</H3>*"
   ]
  },
  {
   "cell_type": "markdown",
   "id": "395745c6",
   "metadata": {},
   "source": [
    "# Testing Model\n",
    "* winner model= RandomForestRegressor() = model2"
   ]
  },
  {
   "cell_type": "code",
   "execution_count": 73,
   "id": "1c8ec58e",
   "metadata": {},
   "outputs": [
    {
     "data": {
      "text/plain": [
       "array([23.921, 10.03 , 25.79 , 21.521, 17.116, 14.501, 19.895, 14.715,\n",
       "       31.715, 41.38 , 18.903,  9.301, 23.336, 31.521, 20.585, 12.64 ,\n",
       "       32.461, 15.011, 23.363, 17.405, 19.355, 15.278, 18.547, 21.409,\n",
       "       18.64 , 31.396, 16.421, 32.572,  9.541, 33.858, 24.862, 21.031,\n",
       "       23.312,  8.986, 20.351, 12.471, 41.826, 23.284, 23.773, 43.895,\n",
       "       23.501, 27.927, 20.515, 21.763, 15.544, 32.885, 44.141, 21.025,\n",
       "       17.905, 22.678, 21.383, 14.738, 19.625, 14.507, 24.217, 33.871,\n",
       "       41.948, 28.14 , 18.108, 20.789, 47.655, 10.914, 18.771, 23.323,\n",
       "       14.175, 38.006, 20.049, 16.624, 17.676, 34.628, 24.964, 23.061,\n",
       "       19.865, 22.453, 35.918, 12.792, 15.634, 20.503, 21.337, 21.458,\n",
       "       22.317, 21.708, 13.726, 23.477, 20.852, 21.305, 14.169, 21.026,\n",
       "       22.018, 23.111, 17.503, 26.091,  8.471, 24.518, 15.686, 29.917,\n",
       "       20.23 , 31.596, 13.667, 25.883, 17.855, 17.434])"
      ]
     },
     "execution_count": 73,
     "metadata": {},
     "output_type": "execute_result"
    }
   ],
   "source": [
    "rfr_test_set_predictions= model2.predict(housing_test_tr_features)\n",
    "rfr_test_set_predictions"
   ]
  },
  {
   "cell_type": "code",
   "execution_count": 74,
   "id": "b3860495",
   "metadata": {},
   "outputs": [
    {
     "data": {
      "text/plain": [
       "3.3996118809617752"
      ]
     },
     "execution_count": 74,
     "metadata": {},
     "output_type": "execute_result"
    }
   ],
   "source": [
    "rfr_test_set_rmse= np.sqrt(mean_squared_error(housing_test_labels, rfr_test_set_predictions))\n",
    "rfr_test_set_rmse"
   ]
  },
  {
   "cell_type": "markdown",
   "id": "0fd0397a",
   "metadata": {},
   "source": [
    "<h4>RendomForestRegressor RMSE on test set= 3.3996118809617752 better then both LR, DTR</h4>"
   ]
  },
  {
   "cell_type": "markdown",
   "id": "466687c5",
   "metadata": {},
   "source": [
    "* # Joblib Dumping and Loading of Model "
   ]
  },
  {
   "cell_type": "code",
   "execution_count": 75,
   "id": "7a35fe31",
   "metadata": {},
   "outputs": [],
   "source": [
    "from joblib import dump, load"
   ]
  },
  {
   "cell_type": "code",
   "execution_count": 76,
   "id": "fed611e3",
   "metadata": {},
   "outputs": [
    {
     "data": {
      "text/plain": [
       "['price_predictor.joblib']"
      ]
     },
     "execution_count": 76,
     "metadata": {},
     "output_type": "execute_result"
    }
   ],
   "source": [
    "dump(model2, \"price_predictor.joblib\")"
   ]
  },
  {
   "cell_type": "code",
   "execution_count": null,
   "id": "04c02c00",
   "metadata": {},
   "outputs": [],
   "source": []
  }
 ],
 "metadata": {
  "kernelspec": {
   "display_name": "Python 3 (ipykernel)",
   "language": "python",
   "name": "python3"
  },
  "language_info": {
   "codemirror_mode": {
    "name": "ipython",
    "version": 3
   },
   "file_extension": ".py",
   "mimetype": "text/x-python",
   "name": "python",
   "nbconvert_exporter": "python",
   "pygments_lexer": "ipython3",
   "version": "3.10.8"
  }
 },
 "nbformat": 4,
 "nbformat_minor": 5
}
