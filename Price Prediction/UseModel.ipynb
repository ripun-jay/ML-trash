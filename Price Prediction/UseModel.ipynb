{
 "cells": [
  {
   "cell_type": "code",
   "execution_count": 6,
   "id": "45998676",
   "metadata": {},
   "outputs": [],
   "source": [
    "from joblib import dump, load\n",
    "import numpy as np\n",
    "model= load(\"price_predictor.joblib\")"
   ]
  },
  {
   "cell_type": "code",
   "execution_count": 7,
   "id": "91c0759f",
   "metadata": {},
   "outputs": [],
   "source": [
    "# input\n",
    "input= np.array([[-0.34857993,  2.43162828, -0.99172479, -0.27144836, -1.34735047,\n",
    "        -0.29610676, -1.25682801,  2.46694812, -0.91150503, -0.4609256 ,\n",
    "        -0.86345309,  0.34277202, -0.82281876]])\n"
   ]
  },
  {
   "cell_type": "code",
   "execution_count": 8,
   "id": "d31b0dc8",
   "metadata": {},
   "outputs": [
    {
     "data": {
      "text/plain": [
       "array([22.635])"
      ]
     },
     "execution_count": 8,
     "metadata": {},
     "output_type": "execute_result"
    }
   ],
   "source": [
    "model.predict(input)"
   ]
  },
  {
   "cell_type": "code",
   "execution_count": null,
   "id": "f7a23b69",
   "metadata": {},
   "outputs": [],
   "source": []
  }
 ],
 "metadata": {
  "kernelspec": {
   "display_name": "Python 3 (ipykernel)",
   "language": "python",
   "name": "python3"
  },
  "language_info": {
   "codemirror_mode": {
    "name": "ipython",
    "version": 3
   },
   "file_extension": ".py",
   "mimetype": "text/x-python",
   "name": "python",
   "nbconvert_exporter": "python",
   "pygments_lexer": "ipython3",
   "version": "3.10.8"
  }
 },
 "nbformat": 4,
 "nbformat_minor": 5
}
